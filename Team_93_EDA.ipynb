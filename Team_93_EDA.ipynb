{
  "nbformat": 4,
  "nbformat_minor": 0,
  "metadata": {
    "colab": {
      "name": "Team 93 EDA.ipynb",
      "provenance": [],
      "include_colab_link": true
    },
    "kernelspec": {
      "name": "python3",
      "display_name": "Python 3"
    },
    "language_info": {
      "name": "python"
    }
  },
  "cells": [
    {
      "cell_type": "markdown",
      "metadata": {
        "id": "view-in-github",
        "colab_type": "text"
      },
      "source": [
        "<a href=\"https://colab.research.google.com/github/sorayabailey23/Group-93/blob/main/Team_93_EDA.ipynb\" target=\"_parent\"><img src=\"https://colab.research.google.com/assets/colab-badge.svg\" alt=\"Open In Colab\"/></a>"
      ]
    },
    {
      "cell_type": "markdown",
      "metadata": {
        "id": "Y7wqPtP8FoeW"
      },
      "source": [
        "# Team 93: Exploratory Data Analysis \n",
        "\n",
        "To create our gentrification index, we will complete exploratory data anaylsis on LA County Assessor Rolls (2010 - 2020) to see how rail transit stations affect property values. \n",
        "\n",
        "\n",
        "\n",
        "\n",
        "\n",
        "\n",
        "\n"
      ]
    },
    {
      "cell_type": "code",
      "metadata": {
        "id": "-kOhy1wrZccZ"
      },
      "source": [
        "#importing libraries + drive\n",
        "\n",
        "!pip install pingouin"
      ],
      "execution_count": null,
      "outputs": []
    },
    {
      "cell_type": "code",
      "metadata": {
        "id": "H35u_vZYi9ji",
        "colab": {
          "base_uri": "https://localhost:8080/"
        },
        "outputId": "5025c3a8-be38-44ad-cb4d-45851b6a2055"
      },
      "source": [
        "from google.colab import drive\n",
        "drive.mount('/content/gdrive')"
      ],
      "execution_count": 2,
      "outputs": [
        {
          "output_type": "stream",
          "text": [
            "Mounted at /content/gdrive\n"
          ],
          "name": "stdout"
        }
      ]
    },
    {
      "cell_type": "code",
      "metadata": {
        "id": "lM9tvFjYjA5F"
      },
      "source": [
        "import numpy                 as np\n",
        "import pandas                as pd\n",
        "import matplotlib.pyplot     as plt\n",
        "import seaborn               as sns\n",
        "import pingouin as pg\n",
        "import folium  #needed for interactive map\n",
        "from folium.plugins import HeatMap\n",
        "%matplotlib inline\n",
        "sns.set()#sets seaborn theme parameters to their defaults"
      ],
      "execution_count": 3,
      "outputs": []
    },
    {
      "cell_type": "markdown",
      "metadata": {
        "id": "dR-oq73tjAQe"
      },
      "source": [
        "## LA County Assessor Data \n",
        "\n"
      ]
    },
    {
      "cell_type": "code",
      "metadata": {
        "colab": {
          "base_uri": "https://localhost:8080/",
          "height": 419
        },
        "id": "sI7_e3p9jfxS",
        "outputId": "c330d386-ff99-47f0-fb77-9c7bf01b1ae4"
      },
      "source": [
        "#loading assessor data \n",
        "df = pd.read_csv(\"gdrive/My Drive/Team 93 Capstone Project/data/Assessor_Parcels_Data_2010 to 2020.csv\")\n",
        "df"
      ],
      "execution_count": 4,
      "outputs": [
        {
          "output_type": "execute_result",
          "data": {
            "text/html": [
              "<div>\n",
              "<style scoped>\n",
              "    .dataframe tbody tr th:only-of-type {\n",
              "        vertical-align: middle;\n",
              "    }\n",
              "\n",
              "    .dataframe tbody tr th {\n",
              "        vertical-align: top;\n",
              "    }\n",
              "\n",
              "    .dataframe thead th {\n",
              "        text-align: right;\n",
              "    }\n",
              "</style>\n",
              "<table border=\"1\" class=\"dataframe\">\n",
              "  <thead>\n",
              "    <tr style=\"text-align: right;\">\n",
              "      <th></th>\n",
              "      <th>Unnamed: 0</th>\n",
              "      <th>Unnamed: 0.1</th>\n",
              "      <th>city</th>\n",
              "      <th>year</th>\n",
              "      <th>assessor_id</th>\n",
              "      <th>general_use</th>\n",
              "      <th>specific_use</th>\n",
              "      <th>net_value</th>\n",
              "      <th>zip_code</th>\n",
              "      <th>train_stops</th>\n",
              "    </tr>\n",
              "  </thead>\n",
              "  <tbody>\n",
              "    <tr>\n",
              "      <th>0</th>\n",
              "      <td>0</td>\n",
              "      <td>0</td>\n",
              "      <td>LOS ANGELES</td>\n",
              "      <td>2010</td>\n",
              "      <td>2368-002-003-2010</td>\n",
              "      <td>Commercial</td>\n",
              "      <td>Commercial</td>\n",
              "      <td>455441.0</td>\n",
              "      <td>91604</td>\n",
              "      <td>1</td>\n",
              "    </tr>\n",
              "    <tr>\n",
              "      <th>1</th>\n",
              "      <td>1</td>\n",
              "      <td>1</td>\n",
              "      <td>LOS ANGELES</td>\n",
              "      <td>2010</td>\n",
              "      <td>4305-007-001-2010</td>\n",
              "      <td>Commercial</td>\n",
              "      <td>Store</td>\n",
              "      <td>559830.0</td>\n",
              "      <td>90035</td>\n",
              "      <td>0</td>\n",
              "    </tr>\n",
              "    <tr>\n",
              "      <th>2</th>\n",
              "      <td>2</td>\n",
              "      <td>2</td>\n",
              "      <td>LOS ANGELES</td>\n",
              "      <td>2010</td>\n",
              "      <td>5013-019-033-2010</td>\n",
              "      <td>Commercial</td>\n",
              "      <td>Commercial</td>\n",
              "      <td>303510.0</td>\n",
              "      <td>90043</td>\n",
              "      <td>0</td>\n",
              "    </tr>\n",
              "    <tr>\n",
              "      <th>3</th>\n",
              "      <td>3</td>\n",
              "      <td>3</td>\n",
              "      <td>LOS ANGELES</td>\n",
              "      <td>2010</td>\n",
              "      <td>2040-032-015-2010</td>\n",
              "      <td>Commercial</td>\n",
              "      <td>Store</td>\n",
              "      <td>800000.0</td>\n",
              "      <td>91364</td>\n",
              "      <td>0</td>\n",
              "    </tr>\n",
              "    <tr>\n",
              "      <th>4</th>\n",
              "      <td>4</td>\n",
              "      <td>4</td>\n",
              "      <td>LOS ANGELES</td>\n",
              "      <td>2010</td>\n",
              "      <td>2132-011-025-2010</td>\n",
              "      <td>Residential</td>\n",
              "      <td>Single Family Residence</td>\n",
              "      <td>205877.0</td>\n",
              "      <td>91335</td>\n",
              "      <td>0</td>\n",
              "    </tr>\n",
              "    <tr>\n",
              "      <th>...</th>\n",
              "      <td>...</td>\n",
              "      <td>...</td>\n",
              "      <td>...</td>\n",
              "      <td>...</td>\n",
              "      <td>...</td>\n",
              "      <td>...</td>\n",
              "      <td>...</td>\n",
              "      <td>...</td>\n",
              "      <td>...</td>\n",
              "      <td>...</td>\n",
              "    </tr>\n",
              "    <tr>\n",
              "      <th>8310935</th>\n",
              "      <td>8310935</td>\n",
              "      <td>8310935</td>\n",
              "      <td>LOS ANGELES</td>\n",
              "      <td>2020</td>\n",
              "      <td>7559-039-161-2020</td>\n",
              "      <td>Residential</td>\n",
              "      <td>Single Family Residence</td>\n",
              "      <td>281430.0</td>\n",
              "      <td>90732</td>\n",
              "      <td>0</td>\n",
              "    </tr>\n",
              "    <tr>\n",
              "      <th>8310936</th>\n",
              "      <td>8310936</td>\n",
              "      <td>8310936</td>\n",
              "      <td>LOS ANGELES</td>\n",
              "      <td>2020</td>\n",
              "      <td>7562-008-014-2020</td>\n",
              "      <td>Residential</td>\n",
              "      <td>Single Family Residence</td>\n",
              "      <td>106377.0</td>\n",
              "      <td>90732</td>\n",
              "      <td>0</td>\n",
              "    </tr>\n",
              "    <tr>\n",
              "      <th>8310937</th>\n",
              "      <td>8310937</td>\n",
              "      <td>8310937</td>\n",
              "      <td>LOS ANGELES</td>\n",
              "      <td>2020</td>\n",
              "      <td>7559-014-037-2020</td>\n",
              "      <td>Residential</td>\n",
              "      <td>Single Family Residence</td>\n",
              "      <td>418726.0</td>\n",
              "      <td>90732</td>\n",
              "      <td>0</td>\n",
              "    </tr>\n",
              "    <tr>\n",
              "      <th>8310938</th>\n",
              "      <td>8310938</td>\n",
              "      <td>8310938</td>\n",
              "      <td>LOS ANGELES</td>\n",
              "      <td>2020</td>\n",
              "      <td>7563-011-011-2020</td>\n",
              "      <td>Residential</td>\n",
              "      <td>Single Family Residence</td>\n",
              "      <td>805073.0</td>\n",
              "      <td>90732</td>\n",
              "      <td>0</td>\n",
              "    </tr>\n",
              "    <tr>\n",
              "      <th>8310939</th>\n",
              "      <td>8310939</td>\n",
              "      <td>8310939</td>\n",
              "      <td>LOS ANGELES</td>\n",
              "      <td>2020</td>\n",
              "      <td>7559-040-109-2020</td>\n",
              "      <td>Residential</td>\n",
              "      <td>Single Family Residence</td>\n",
              "      <td>189093.0</td>\n",
              "      <td>90732</td>\n",
              "      <td>0</td>\n",
              "    </tr>\n",
              "  </tbody>\n",
              "</table>\n",
              "<p>8310940 rows × 10 columns</p>\n",
              "</div>"
            ],
            "text/plain": [
              "         Unnamed: 0  Unnamed: 0.1  ... zip_code  train_stops\n",
              "0                 0             0  ...    91604            1\n",
              "1                 1             1  ...    90035            0\n",
              "2                 2             2  ...    90043            0\n",
              "3                 3             3  ...    91364            0\n",
              "4                 4             4  ...    91335            0\n",
              "...             ...           ...  ...      ...          ...\n",
              "8310935     8310935       8310935  ...    90732            0\n",
              "8310936     8310936       8310936  ...    90732            0\n",
              "8310937     8310937       8310937  ...    90732            0\n",
              "8310938     8310938       8310938  ...    90732            0\n",
              "8310939     8310939       8310939  ...    90732            0\n",
              "\n",
              "[8310940 rows x 10 columns]"
            ]
          },
          "metadata": {
            "tags": []
          },
          "execution_count": 4
        }
      ]
    },
    {
      "cell_type": "markdown",
      "metadata": {
        "id": "C35rsP4z3b9P"
      },
      "source": [
        "### Feature Engineering "
      ]
    },
    {
      "cell_type": "markdown",
      "metadata": {
        "id": "qSyGgDo2KF3I"
      },
      "source": [
        "To have a consistent list of zip codes across all datasets, we will filter the assessor dataset to 76 Los Angeles city zip codes. Additionally, we'll do feature engineering and create the following: \n",
        "\n",
        "\n",
        "*   A new feature that details the geographical (North, Northwest, West, South, and Central) location.\n",
        "*   A feaure that details the total number of rail transit stations in the location's zip code\n",
        "\n"
      ]
    },
    {
      "cell_type": "code",
      "metadata": {
        "id": "CEIhOENijtBf"
      },
      "source": [
        "#dictionary of zip codes + their station count for feature engineering\n",
        "\n",
        "station_zip_codes = {\n",
        "    '90004' : 1,\n",
        "    '90006' : 0,\n",
        "    '90007' : 4,\n",
        "    '90012' : 2,\n",
        "    '90013' : 2,\n",
        "    '90015' : 1,\n",
        "    '90016' : 3,\n",
        "    '90017' : 1,\n",
        "    '90019' : 0,\n",
        "    '90020' : 1,\n",
        "    '90024' : 0,\n",
        "    '90026' : 0,\n",
        "    '90027' : 2,\n",
        "    '90028' : 2,\n",
        "    '90029' : 1,\n",
        "    '90034' : 1,\n",
        "    '90035' : 0,\n",
        "    '90036' : 0,\n",
        "    '90037' : 0,\n",
        "    '90038': 0,\n",
        "    '90039' : 0,\n",
        "    '90041' : 0,\n",
        "    '90042' : 1,\n",
        "    '90045' : 1,\n",
        "    '90064' : 3,\n",
        "    '90065' : 1,\n",
        "    '90068' : 0,\n",
        "    '90094' : 0,\n",
        "    '90211' : 0,\n",
        "    '90212' : 0,\n",
        "    '90272' : 0,\n",
        "    '90731' : 0,\n",
        "    '90732' : 0,\n",
        "    '91303' : 0,\n",
        "    '91306' : 0,\n",
        "    '91307' : 0,\n",
        "    '91316' : 0,\n",
        "    '91324' : 0,\n",
        "    '91325' : 0,\n",
        "    '91335' : 0,\n",
        "    '91343' : 0,\n",
        "    '91344' : 0,\n",
        "    '91356' : 0,\n",
        "    '91367' : 0,\n",
        "    '91401' : 0,\n",
        "    '91403' : 0,\n",
        "    '91405' : 0,\n",
        "    '91406' : 0,\n",
        "    '91411' : 0,\n",
        "    '91423' : 0,\n",
        "    '91601' : 1,\n",
        "    '91604' : 1,\n",
        "    '91605' : 0,\n",
        "    '91606' : 0,\n",
        "    '91607' : 0,\n",
        "    '90025' : 0,\n",
        "    '90046' : 0,\n",
        "    '90047' : 0,\n",
        "    '90048' : 2,\n",
        "    '90049' : 0,\n",
        "    '90066' : 0,\n",
        "    '90069' : 0,\n",
        "    '90210' : 0,\n",
        "    '90230' : 0,\n",
        "    '90245' : 0,\n",
        "    '90291' : 0,\n",
        "    '90292' : 0,\n",
        "    '90293' : 0,\n",
        "    '90501' : 0,\n",
        "    '90717' : 0,\n",
        "    '91214' : 0,\n",
        "    '91304' : 0,\n",
        "    '91311' : 0,\n",
        "    '91342' : 0,\n",
        "    '91364' : 0,\n",
        "    '91505' : 0\n",
        "}\n",
        "\n",
        "#dictionary of each zip code's geographic locaition\n",
        "\n",
        "area_zip_codes = {\n",
        "    '90004' : 'West',\n",
        "    '90006' : 'Central',\n",
        "    '90007' : 'Central',\n",
        "    '90012' : 'Central',\n",
        "    '90013' : 'Central',\n",
        "    '90015' : 'Central',\n",
        "    '90016' : 'West',\n",
        "    '90017' : 'Central',\n",
        "    '90019' : 'West',\n",
        "    '90020' : 'West',\n",
        "    '90024' : 'West',\n",
        "    '90026' : 'Central',\n",
        "    '90027' : 'Central',\n",
        "    '90028' : 'West',\n",
        "    '90029' : 'Central',\n",
        "    '90034' : 'West',\n",
        "    '90035' : 'West',\n",
        "    '90036' : 'West',\n",
        "    '90037' : 'Central',\n",
        "    '90038' : 'West',\n",
        "    '90039' : 'Central',\n",
        "    '90041' : 'Central',\n",
        "    '90042' : 'Central',\n",
        "    '90045' : 'West',\n",
        "    '90064' : 'West',\n",
        "    '90065' : 'Central',\n",
        "    '90068' : 'West',\n",
        "    '90094' : 'West',\n",
        "    '90211' : 'West',\n",
        "    '90212' : 'West',\n",
        "    '90272' : 'West',\n",
        "    '90731' : 'South',\n",
        "    '90732' : 'South',\n",
        "    '91303' : 'Northwest',\n",
        "    '91306' : 'Northwest',\n",
        "    '91307' : 'Northwest',\n",
        "    '91316' : 'Northwest',\n",
        "    '91324' : 'Northwest',\n",
        "    '91325' : 'Northwest',\n",
        "    '91335' : 'Northwest',\n",
        "    '91343' : 'Northwest',\n",
        "    '91344' : 'Northwest',\n",
        "    '91356' : 'Northwest',\n",
        "    '91367' : 'Northwest',\n",
        "    '91401' : 'Northeast',\n",
        "    '91403' : 'Northeast',\n",
        "    '91405' : 'Northeast',\n",
        "    '91406' : 'Northwest',\n",
        "    '91411' : 'Northeast',\n",
        "    '91423' : 'Northeast',\n",
        "    '91601' : 'Northeast',\n",
        "    '91604' : 'Northeast',\n",
        "    '91605' : 'Northeast',\n",
        "    '91606' : 'Northeast',\n",
        "    '91607' : 'Northeast',\n",
        "    '90025' : 'West',\n",
        "    '90046' : 'West',\n",
        "    '90047' : 'West',\n",
        "    '90048' : 'West',\n",
        "    '90049' : 'West',\n",
        "    '90066' : 'West',\n",
        "    '90069' : 'West',\n",
        "    '90210' : 'West',\n",
        "    '90230' : 'West',\n",
        "    '90245' : 'West',\n",
        "    '90291' : 'West',\n",
        "    '90292' : 'West',\n",
        "    '90293' : 'West',\n",
        "    '90501' : 'South',\n",
        "    '90717' : 'South',\n",
        "    '91214' : 'Northeast',\n",
        "    '91304' : 'Northwest',\n",
        "    '91311' : 'Northwest',\n",
        "    '91342' : 'Northeast',\n",
        "    '91364' : 'Northeast',\n",
        "    '91505' : 'Northeast'\n",
        "}"
      ],
      "execution_count": null,
      "outputs": []
    },
    {
      "cell_type": "code",
      "metadata": {
        "id": "59d8fc60",
        "colab": {
          "base_uri": "https://localhost:8080/",
          "height": 419
        },
        "outputId": "4e060991-22ab-4e3e-c649-ae6c4bb29149"
      },
      "source": [
        "#filter dataframe to only include the list of zipcodes above\n",
        "\n",
        "assessor_data = df[df['zip_code'].isin(list(station_zip_codes.keys()))]\n",
        "assessor_data"
      ],
      "execution_count": null,
      "outputs": [
        {
          "output_type": "execute_result",
          "data": {
            "text/html": [
              "<div>\n",
              "<style scoped>\n",
              "    .dataframe tbody tr th:only-of-type {\n",
              "        vertical-align: middle;\n",
              "    }\n",
              "\n",
              "    .dataframe tbody tr th {\n",
              "        vertical-align: top;\n",
              "    }\n",
              "\n",
              "    .dataframe thead th {\n",
              "        text-align: right;\n",
              "    }\n",
              "</style>\n",
              "<table border=\"1\" class=\"dataframe\">\n",
              "  <thead>\n",
              "    <tr style=\"text-align: right;\">\n",
              "      <th></th>\n",
              "      <th>Unnamed: 0</th>\n",
              "      <th>Unnamed: 0.1</th>\n",
              "      <th>city</th>\n",
              "      <th>year</th>\n",
              "      <th>assessor_id</th>\n",
              "      <th>general_use</th>\n",
              "      <th>specific_use</th>\n",
              "      <th>net_value</th>\n",
              "      <th>zip_code</th>\n",
              "      <th>train_stops</th>\n",
              "    </tr>\n",
              "  </thead>\n",
              "  <tbody>\n",
              "    <tr>\n",
              "      <th>0</th>\n",
              "      <td>0</td>\n",
              "      <td>0</td>\n",
              "      <td>LOS ANGELES</td>\n",
              "      <td>2010</td>\n",
              "      <td>2368-002-003-2010</td>\n",
              "      <td>Commercial</td>\n",
              "      <td>Commercial</td>\n",
              "      <td>455441.0</td>\n",
              "      <td>91604</td>\n",
              "      <td>1</td>\n",
              "    </tr>\n",
              "    <tr>\n",
              "      <th>1</th>\n",
              "      <td>1</td>\n",
              "      <td>1</td>\n",
              "      <td>LOS ANGELES</td>\n",
              "      <td>2010</td>\n",
              "      <td>4305-007-001-2010</td>\n",
              "      <td>Commercial</td>\n",
              "      <td>Store</td>\n",
              "      <td>559830.0</td>\n",
              "      <td>90035</td>\n",
              "      <td>0</td>\n",
              "    </tr>\n",
              "    <tr>\n",
              "      <th>3</th>\n",
              "      <td>3</td>\n",
              "      <td>3</td>\n",
              "      <td>LOS ANGELES</td>\n",
              "      <td>2010</td>\n",
              "      <td>2040-032-015-2010</td>\n",
              "      <td>Commercial</td>\n",
              "      <td>Store</td>\n",
              "      <td>800000.0</td>\n",
              "      <td>91364</td>\n",
              "      <td>0</td>\n",
              "    </tr>\n",
              "    <tr>\n",
              "      <th>4</th>\n",
              "      <td>4</td>\n",
              "      <td>4</td>\n",
              "      <td>LOS ANGELES</td>\n",
              "      <td>2010</td>\n",
              "      <td>2132-011-025-2010</td>\n",
              "      <td>Residential</td>\n",
              "      <td>Single Family Residence</td>\n",
              "      <td>205877.0</td>\n",
              "      <td>91335</td>\n",
              "      <td>0</td>\n",
              "    </tr>\n",
              "    <tr>\n",
              "      <th>5</th>\n",
              "      <td>5</td>\n",
              "      <td>5</td>\n",
              "      <td>LOS ANGELES</td>\n",
              "      <td>2010</td>\n",
              "      <td>2132-013-016-2010</td>\n",
              "      <td>Residential</td>\n",
              "      <td>Single Family Residence</td>\n",
              "      <td>248779.0</td>\n",
              "      <td>91335</td>\n",
              "      <td>0</td>\n",
              "    </tr>\n",
              "    <tr>\n",
              "      <th>...</th>\n",
              "      <td>...</td>\n",
              "      <td>...</td>\n",
              "      <td>...</td>\n",
              "      <td>...</td>\n",
              "      <td>...</td>\n",
              "      <td>...</td>\n",
              "      <td>...</td>\n",
              "      <td>...</td>\n",
              "      <td>...</td>\n",
              "      <td>...</td>\n",
              "    </tr>\n",
              "    <tr>\n",
              "      <th>8310935</th>\n",
              "      <td>8310935</td>\n",
              "      <td>8310935</td>\n",
              "      <td>LOS ANGELES</td>\n",
              "      <td>2020</td>\n",
              "      <td>7559-039-161-2020</td>\n",
              "      <td>Residential</td>\n",
              "      <td>Single Family Residence</td>\n",
              "      <td>281430.0</td>\n",
              "      <td>90732</td>\n",
              "      <td>0</td>\n",
              "    </tr>\n",
              "    <tr>\n",
              "      <th>8310936</th>\n",
              "      <td>8310936</td>\n",
              "      <td>8310936</td>\n",
              "      <td>LOS ANGELES</td>\n",
              "      <td>2020</td>\n",
              "      <td>7562-008-014-2020</td>\n",
              "      <td>Residential</td>\n",
              "      <td>Single Family Residence</td>\n",
              "      <td>106377.0</td>\n",
              "      <td>90732</td>\n",
              "      <td>0</td>\n",
              "    </tr>\n",
              "    <tr>\n",
              "      <th>8310937</th>\n",
              "      <td>8310937</td>\n",
              "      <td>8310937</td>\n",
              "      <td>LOS ANGELES</td>\n",
              "      <td>2020</td>\n",
              "      <td>7559-014-037-2020</td>\n",
              "      <td>Residential</td>\n",
              "      <td>Single Family Residence</td>\n",
              "      <td>418726.0</td>\n",
              "      <td>90732</td>\n",
              "      <td>0</td>\n",
              "    </tr>\n",
              "    <tr>\n",
              "      <th>8310938</th>\n",
              "      <td>8310938</td>\n",
              "      <td>8310938</td>\n",
              "      <td>LOS ANGELES</td>\n",
              "      <td>2020</td>\n",
              "      <td>7563-011-011-2020</td>\n",
              "      <td>Residential</td>\n",
              "      <td>Single Family Residence</td>\n",
              "      <td>805073.0</td>\n",
              "      <td>90732</td>\n",
              "      <td>0</td>\n",
              "    </tr>\n",
              "    <tr>\n",
              "      <th>8310939</th>\n",
              "      <td>8310939</td>\n",
              "      <td>8310939</td>\n",
              "      <td>LOS ANGELES</td>\n",
              "      <td>2020</td>\n",
              "      <td>7559-040-109-2020</td>\n",
              "      <td>Residential</td>\n",
              "      <td>Single Family Residence</td>\n",
              "      <td>189093.0</td>\n",
              "      <td>90732</td>\n",
              "      <td>0</td>\n",
              "    </tr>\n",
              "  </tbody>\n",
              "</table>\n",
              "<p>5952770 rows × 10 columns</p>\n",
              "</div>"
            ],
            "text/plain": [
              "         Unnamed: 0  Unnamed: 0.1  ... zip_code  train_stops\n",
              "0                 0             0  ...    91604            1\n",
              "1                 1             1  ...    90035            0\n",
              "3                 3             3  ...    91364            0\n",
              "4                 4             4  ...    91335            0\n",
              "5                 5             5  ...    91335            0\n",
              "...             ...           ...  ...      ...          ...\n",
              "8310935     8310935       8310935  ...    90732            0\n",
              "8310936     8310936       8310936  ...    90732            0\n",
              "8310937     8310937       8310937  ...    90732            0\n",
              "8310938     8310938       8310938  ...    90732            0\n",
              "8310939     8310939       8310939  ...    90732            0\n",
              "\n",
              "[5952770 rows x 10 columns]"
            ]
          },
          "metadata": {
            "tags": []
          },
          "execution_count": 5
        }
      ]
    },
    {
      "cell_type": "code",
      "metadata": {
        "id": "yE-T906pmbsF"
      },
      "source": [
        "assessor_data = assessor_data.reset_index()\n",
        "assessor_data = assessor_data.drop(columns = [\"index\",\"Unnamed: 0\", \"Unnamed: 0.1\"])"
      ],
      "execution_count": null,
      "outputs": []
    },
    {
      "cell_type": "code",
      "metadata": {
        "id": "G7lYf-DHwK1E",
        "colab": {
          "base_uri": "https://localhost:8080/",
          "height": 419
        },
        "outputId": "477c16d6-a8b6-46a9-9dad-d6e1a1e8cf9e"
      },
      "source": [
        "assessor_data"
      ],
      "execution_count": null,
      "outputs": [
        {
          "output_type": "execute_result",
          "data": {
            "text/html": [
              "<div>\n",
              "<style scoped>\n",
              "    .dataframe tbody tr th:only-of-type {\n",
              "        vertical-align: middle;\n",
              "    }\n",
              "\n",
              "    .dataframe tbody tr th {\n",
              "        vertical-align: top;\n",
              "    }\n",
              "\n",
              "    .dataframe thead th {\n",
              "        text-align: right;\n",
              "    }\n",
              "</style>\n",
              "<table border=\"1\" class=\"dataframe\">\n",
              "  <thead>\n",
              "    <tr style=\"text-align: right;\">\n",
              "      <th></th>\n",
              "      <th>city</th>\n",
              "      <th>year</th>\n",
              "      <th>assessor_id</th>\n",
              "      <th>general_use</th>\n",
              "      <th>specific_use</th>\n",
              "      <th>net_value</th>\n",
              "      <th>zip_code</th>\n",
              "      <th>train_stops</th>\n",
              "    </tr>\n",
              "  </thead>\n",
              "  <tbody>\n",
              "    <tr>\n",
              "      <th>0</th>\n",
              "      <td>LOS ANGELES</td>\n",
              "      <td>2010</td>\n",
              "      <td>2368-002-003-2010</td>\n",
              "      <td>Commercial</td>\n",
              "      <td>Commercial</td>\n",
              "      <td>455441.0</td>\n",
              "      <td>91604</td>\n",
              "      <td>1</td>\n",
              "    </tr>\n",
              "    <tr>\n",
              "      <th>1</th>\n",
              "      <td>LOS ANGELES</td>\n",
              "      <td>2010</td>\n",
              "      <td>4305-007-001-2010</td>\n",
              "      <td>Commercial</td>\n",
              "      <td>Store</td>\n",
              "      <td>559830.0</td>\n",
              "      <td>90035</td>\n",
              "      <td>0</td>\n",
              "    </tr>\n",
              "    <tr>\n",
              "      <th>2</th>\n",
              "      <td>LOS ANGELES</td>\n",
              "      <td>2010</td>\n",
              "      <td>2040-032-015-2010</td>\n",
              "      <td>Commercial</td>\n",
              "      <td>Store</td>\n",
              "      <td>800000.0</td>\n",
              "      <td>91364</td>\n",
              "      <td>0</td>\n",
              "    </tr>\n",
              "    <tr>\n",
              "      <th>3</th>\n",
              "      <td>LOS ANGELES</td>\n",
              "      <td>2010</td>\n",
              "      <td>2132-011-025-2010</td>\n",
              "      <td>Residential</td>\n",
              "      <td>Single Family Residence</td>\n",
              "      <td>205877.0</td>\n",
              "      <td>91335</td>\n",
              "      <td>0</td>\n",
              "    </tr>\n",
              "    <tr>\n",
              "      <th>4</th>\n",
              "      <td>LOS ANGELES</td>\n",
              "      <td>2010</td>\n",
              "      <td>2132-013-016-2010</td>\n",
              "      <td>Residential</td>\n",
              "      <td>Single Family Residence</td>\n",
              "      <td>248779.0</td>\n",
              "      <td>91335</td>\n",
              "      <td>0</td>\n",
              "    </tr>\n",
              "    <tr>\n",
              "      <th>...</th>\n",
              "      <td>...</td>\n",
              "      <td>...</td>\n",
              "      <td>...</td>\n",
              "      <td>...</td>\n",
              "      <td>...</td>\n",
              "      <td>...</td>\n",
              "      <td>...</td>\n",
              "      <td>...</td>\n",
              "    </tr>\n",
              "    <tr>\n",
              "      <th>5952765</th>\n",
              "      <td>LOS ANGELES</td>\n",
              "      <td>2020</td>\n",
              "      <td>7559-039-161-2020</td>\n",
              "      <td>Residential</td>\n",
              "      <td>Single Family Residence</td>\n",
              "      <td>281430.0</td>\n",
              "      <td>90732</td>\n",
              "      <td>0</td>\n",
              "    </tr>\n",
              "    <tr>\n",
              "      <th>5952766</th>\n",
              "      <td>LOS ANGELES</td>\n",
              "      <td>2020</td>\n",
              "      <td>7562-008-014-2020</td>\n",
              "      <td>Residential</td>\n",
              "      <td>Single Family Residence</td>\n",
              "      <td>106377.0</td>\n",
              "      <td>90732</td>\n",
              "      <td>0</td>\n",
              "    </tr>\n",
              "    <tr>\n",
              "      <th>5952767</th>\n",
              "      <td>LOS ANGELES</td>\n",
              "      <td>2020</td>\n",
              "      <td>7559-014-037-2020</td>\n",
              "      <td>Residential</td>\n",
              "      <td>Single Family Residence</td>\n",
              "      <td>418726.0</td>\n",
              "      <td>90732</td>\n",
              "      <td>0</td>\n",
              "    </tr>\n",
              "    <tr>\n",
              "      <th>5952768</th>\n",
              "      <td>LOS ANGELES</td>\n",
              "      <td>2020</td>\n",
              "      <td>7563-011-011-2020</td>\n",
              "      <td>Residential</td>\n",
              "      <td>Single Family Residence</td>\n",
              "      <td>805073.0</td>\n",
              "      <td>90732</td>\n",
              "      <td>0</td>\n",
              "    </tr>\n",
              "    <tr>\n",
              "      <th>5952769</th>\n",
              "      <td>LOS ANGELES</td>\n",
              "      <td>2020</td>\n",
              "      <td>7559-040-109-2020</td>\n",
              "      <td>Residential</td>\n",
              "      <td>Single Family Residence</td>\n",
              "      <td>189093.0</td>\n",
              "      <td>90732</td>\n",
              "      <td>0</td>\n",
              "    </tr>\n",
              "  </tbody>\n",
              "</table>\n",
              "<p>5952770 rows × 8 columns</p>\n",
              "</div>"
            ],
            "text/plain": [
              "                city  year        assessor_id  ... net_value zip_code  train_stops\n",
              "0        LOS ANGELES  2010  2368-002-003-2010  ...  455441.0    91604            1\n",
              "1        LOS ANGELES  2010  4305-007-001-2010  ...  559830.0    90035            0\n",
              "2        LOS ANGELES  2010  2040-032-015-2010  ...  800000.0    91364            0\n",
              "3        LOS ANGELES  2010  2132-011-025-2010  ...  205877.0    91335            0\n",
              "4        LOS ANGELES  2010  2132-013-016-2010  ...  248779.0    91335            0\n",
              "...              ...   ...                ...  ...       ...      ...          ...\n",
              "5952765  LOS ANGELES  2020  7559-039-161-2020  ...  281430.0    90732            0\n",
              "5952766  LOS ANGELES  2020  7562-008-014-2020  ...  106377.0    90732            0\n",
              "5952767  LOS ANGELES  2020  7559-014-037-2020  ...  418726.0    90732            0\n",
              "5952768  LOS ANGELES  2020  7563-011-011-2020  ...  805073.0    90732            0\n",
              "5952769  LOS ANGELES  2020  7559-040-109-2020  ...  189093.0    90732            0\n",
              "\n",
              "[5952770 rows x 8 columns]"
            ]
          },
          "metadata": {
            "tags": []
          },
          "execution_count": 9
        }
      ]
    },
    {
      "cell_type": "code",
      "metadata": {
        "id": "DZN4WrDF4zfV"
      },
      "source": [
        "#changing data types for consistency\n",
        "\n",
        "assessor_data[\"year\"] = assessor_data[\"year\"].astype(\"str\")\n",
        "assessor_data[\"zip_code\"] = assessor_data[\"zip_code\"].astype(\"str\")\n",
        "assessor_data[\"train_stops\"] = assessor_data[\"train_stops\"].astype(\"category\")\n",
        "assessor_data[\"net_value\"] = assessor_data[\"net_value\"].astype(\"int\")"
      ],
      "execution_count": null,
      "outputs": []
    },
    {
      "cell_type": "code",
      "metadata": {
        "id": "_bFTgZFmALJ9"
      },
      "source": [
        "#adding area column \n",
        "\n",
        "def find_area(x):\n",
        "  if x in area_zip_codes.keys():\n",
        "    return area_zip_codes[x] \n",
        "\n",
        "assessor_data['area']= assessor_data[\"zip_code\"].apply(lambda x: find_area(x))"
      ],
      "execution_count": null,
      "outputs": []
    },
    {
      "cell_type": "code",
      "metadata": {
        "id": "YB7-Wdb1AP8B",
        "colab": {
          "base_uri": "https://localhost:8080/",
          "height": 419
        },
        "outputId": "79fc5dd9-139b-478c-93e5-81aff4558977"
      },
      "source": [
        "assessor_data"
      ],
      "execution_count": null,
      "outputs": [
        {
          "output_type": "execute_result",
          "data": {
            "text/html": [
              "<div>\n",
              "<style scoped>\n",
              "    .dataframe tbody tr th:only-of-type {\n",
              "        vertical-align: middle;\n",
              "    }\n",
              "\n",
              "    .dataframe tbody tr th {\n",
              "        vertical-align: top;\n",
              "    }\n",
              "\n",
              "    .dataframe thead th {\n",
              "        text-align: right;\n",
              "    }\n",
              "</style>\n",
              "<table border=\"1\" class=\"dataframe\">\n",
              "  <thead>\n",
              "    <tr style=\"text-align: right;\">\n",
              "      <th></th>\n",
              "      <th>city</th>\n",
              "      <th>year</th>\n",
              "      <th>assessor_id</th>\n",
              "      <th>general_use</th>\n",
              "      <th>specific_use</th>\n",
              "      <th>net_value</th>\n",
              "      <th>zip_code</th>\n",
              "      <th>train_stops</th>\n",
              "      <th>area</th>\n",
              "    </tr>\n",
              "  </thead>\n",
              "  <tbody>\n",
              "    <tr>\n",
              "      <th>0</th>\n",
              "      <td>LOS ANGELES</td>\n",
              "      <td>2010</td>\n",
              "      <td>2368-002-003-2010</td>\n",
              "      <td>Commercial</td>\n",
              "      <td>Commercial</td>\n",
              "      <td>455441</td>\n",
              "      <td>91604</td>\n",
              "      <td>1</td>\n",
              "      <td>Northeast</td>\n",
              "    </tr>\n",
              "    <tr>\n",
              "      <th>1</th>\n",
              "      <td>LOS ANGELES</td>\n",
              "      <td>2010</td>\n",
              "      <td>4305-007-001-2010</td>\n",
              "      <td>Commercial</td>\n",
              "      <td>Store</td>\n",
              "      <td>559830</td>\n",
              "      <td>90035</td>\n",
              "      <td>0</td>\n",
              "      <td>West</td>\n",
              "    </tr>\n",
              "    <tr>\n",
              "      <th>2</th>\n",
              "      <td>LOS ANGELES</td>\n",
              "      <td>2010</td>\n",
              "      <td>2040-032-015-2010</td>\n",
              "      <td>Commercial</td>\n",
              "      <td>Store</td>\n",
              "      <td>800000</td>\n",
              "      <td>91364</td>\n",
              "      <td>0</td>\n",
              "      <td>Northeast</td>\n",
              "    </tr>\n",
              "    <tr>\n",
              "      <th>3</th>\n",
              "      <td>LOS ANGELES</td>\n",
              "      <td>2010</td>\n",
              "      <td>2132-011-025-2010</td>\n",
              "      <td>Residential</td>\n",
              "      <td>Single Family Residence</td>\n",
              "      <td>205877</td>\n",
              "      <td>91335</td>\n",
              "      <td>0</td>\n",
              "      <td>Northwest</td>\n",
              "    </tr>\n",
              "    <tr>\n",
              "      <th>4</th>\n",
              "      <td>LOS ANGELES</td>\n",
              "      <td>2010</td>\n",
              "      <td>2132-013-016-2010</td>\n",
              "      <td>Residential</td>\n",
              "      <td>Single Family Residence</td>\n",
              "      <td>248779</td>\n",
              "      <td>91335</td>\n",
              "      <td>0</td>\n",
              "      <td>Northwest</td>\n",
              "    </tr>\n",
              "    <tr>\n",
              "      <th>...</th>\n",
              "      <td>...</td>\n",
              "      <td>...</td>\n",
              "      <td>...</td>\n",
              "      <td>...</td>\n",
              "      <td>...</td>\n",
              "      <td>...</td>\n",
              "      <td>...</td>\n",
              "      <td>...</td>\n",
              "      <td>...</td>\n",
              "    </tr>\n",
              "    <tr>\n",
              "      <th>5952765</th>\n",
              "      <td>LOS ANGELES</td>\n",
              "      <td>2020</td>\n",
              "      <td>7559-039-161-2020</td>\n",
              "      <td>Residential</td>\n",
              "      <td>Single Family Residence</td>\n",
              "      <td>281430</td>\n",
              "      <td>90732</td>\n",
              "      <td>0</td>\n",
              "      <td>South</td>\n",
              "    </tr>\n",
              "    <tr>\n",
              "      <th>5952766</th>\n",
              "      <td>LOS ANGELES</td>\n",
              "      <td>2020</td>\n",
              "      <td>7562-008-014-2020</td>\n",
              "      <td>Residential</td>\n",
              "      <td>Single Family Residence</td>\n",
              "      <td>106377</td>\n",
              "      <td>90732</td>\n",
              "      <td>0</td>\n",
              "      <td>South</td>\n",
              "    </tr>\n",
              "    <tr>\n",
              "      <th>5952767</th>\n",
              "      <td>LOS ANGELES</td>\n",
              "      <td>2020</td>\n",
              "      <td>7559-014-037-2020</td>\n",
              "      <td>Residential</td>\n",
              "      <td>Single Family Residence</td>\n",
              "      <td>418726</td>\n",
              "      <td>90732</td>\n",
              "      <td>0</td>\n",
              "      <td>South</td>\n",
              "    </tr>\n",
              "    <tr>\n",
              "      <th>5952768</th>\n",
              "      <td>LOS ANGELES</td>\n",
              "      <td>2020</td>\n",
              "      <td>7563-011-011-2020</td>\n",
              "      <td>Residential</td>\n",
              "      <td>Single Family Residence</td>\n",
              "      <td>805073</td>\n",
              "      <td>90732</td>\n",
              "      <td>0</td>\n",
              "      <td>South</td>\n",
              "    </tr>\n",
              "    <tr>\n",
              "      <th>5952769</th>\n",
              "      <td>LOS ANGELES</td>\n",
              "      <td>2020</td>\n",
              "      <td>7559-040-109-2020</td>\n",
              "      <td>Residential</td>\n",
              "      <td>Single Family Residence</td>\n",
              "      <td>189093</td>\n",
              "      <td>90732</td>\n",
              "      <td>0</td>\n",
              "      <td>South</td>\n",
              "    </tr>\n",
              "  </tbody>\n",
              "</table>\n",
              "<p>5952770 rows × 9 columns</p>\n",
              "</div>"
            ],
            "text/plain": [
              "                city  year        assessor_id  ... zip_code train_stops       area\n",
              "0        LOS ANGELES  2010  2368-002-003-2010  ...    91604           1  Northeast\n",
              "1        LOS ANGELES  2010  4305-007-001-2010  ...    90035           0       West\n",
              "2        LOS ANGELES  2010  2040-032-015-2010  ...    91364           0  Northeast\n",
              "3        LOS ANGELES  2010  2132-011-025-2010  ...    91335           0  Northwest\n",
              "4        LOS ANGELES  2010  2132-013-016-2010  ...    91335           0  Northwest\n",
              "...              ...   ...                ...  ...      ...         ...        ...\n",
              "5952765  LOS ANGELES  2020  7559-039-161-2020  ...    90732           0      South\n",
              "5952766  LOS ANGELES  2020  7562-008-014-2020  ...    90732           0      South\n",
              "5952767  LOS ANGELES  2020  7559-014-037-2020  ...    90732           0      South\n",
              "5952768  LOS ANGELES  2020  7563-011-011-2020  ...    90732           0      South\n",
              "5952769  LOS ANGELES  2020  7559-040-109-2020  ...    90732           0      South\n",
              "\n",
              "[5952770 rows x 9 columns]"
            ]
          },
          "metadata": {
            "tags": []
          },
          "execution_count": 13
        }
      ]
    },
    {
      "cell_type": "markdown",
      "metadata": {
        "id": "ULLbwqAP0LGz"
      },
      "source": [
        "###Exploratory Data Analysis\n",
        "\n"
      ]
    },
    {
      "cell_type": "markdown",
      "metadata": {
        "id": "C_Cx-asl8t7J"
      },
      "source": [
        "### Univariate Analysis: Net Property Values Across All Zip Codes\n",
        "\n",
        "First, we'll examine summary statistics to better understand the spread of the data across the entire dataset. Then, we'll create separate subsets of the data to rule out Simpson's Paradox. Since we are interested in gentrification and displacement of small businesses and local residents, we will creating a subsest of the assessor data that looks only at commerical, industrial, residential, and institutional properties."
      ]
    },
    {
      "cell_type": "code",
      "metadata": {
        "id": "QsoKQ_5B6Zva",
        "colab": {
          "base_uri": "https://localhost:8080/"
        },
        "outputId": "44e00e87-081f-416a-e25c-7a88ef7776dd"
      },
      "source": [
        "properties = ['Commercial', 'Industrial', 'Residential', 'Institutional']\n",
        "assessor_data = assessor_data[assessor_data['general_use'].isin(properties)]\n",
        "assessor_data"
      ],
      "execution_count": null,
      "outputs": [
        {
          "output_type": "execute_result",
          "data": {
            "text/html": [
              "<div>\n",
              "<style scoped>\n",
              "    .dataframe tbody tr th:only-of-type {\n",
              "        vertical-align: middle;\n",
              "    }\n",
              "\n",
              "    .dataframe tbody tr th {\n",
              "        vertical-align: top;\n",
              "    }\n",
              "\n",
              "    .dataframe thead th {\n",
              "        text-align: right;\n",
              "    }\n",
              "</style>\n",
              "<table border=\"1\" class=\"dataframe\">\n",
              "  <thead>\n",
              "    <tr style=\"text-align: right;\">\n",
              "      <th></th>\n",
              "      <th>city</th>\n",
              "      <th>year</th>\n",
              "      <th>assessor_id</th>\n",
              "      <th>general_use</th>\n",
              "      <th>specific_use</th>\n",
              "      <th>net_value</th>\n",
              "      <th>zip_code</th>\n",
              "      <th>train_stops</th>\n",
              "      <th>area</th>\n",
              "    </tr>\n",
              "  </thead>\n",
              "  <tbody>\n",
              "    <tr>\n",
              "      <th>0</th>\n",
              "      <td>LOS ANGELES</td>\n",
              "      <td>2010</td>\n",
              "      <td>2368-002-003-2010</td>\n",
              "      <td>Commercial</td>\n",
              "      <td>Commercial</td>\n",
              "      <td>455441</td>\n",
              "      <td>91604</td>\n",
              "      <td>1</td>\n",
              "      <td>Northeast</td>\n",
              "    </tr>\n",
              "    <tr>\n",
              "      <th>1</th>\n",
              "      <td>LOS ANGELES</td>\n",
              "      <td>2010</td>\n",
              "      <td>4305-007-001-2010</td>\n",
              "      <td>Commercial</td>\n",
              "      <td>Store</td>\n",
              "      <td>559830</td>\n",
              "      <td>90035</td>\n",
              "      <td>0</td>\n",
              "      <td>West</td>\n",
              "    </tr>\n",
              "    <tr>\n",
              "      <th>2</th>\n",
              "      <td>LOS ANGELES</td>\n",
              "      <td>2010</td>\n",
              "      <td>2040-032-015-2010</td>\n",
              "      <td>Commercial</td>\n",
              "      <td>Store</td>\n",
              "      <td>800000</td>\n",
              "      <td>91364</td>\n",
              "      <td>0</td>\n",
              "      <td>Northeast</td>\n",
              "    </tr>\n",
              "    <tr>\n",
              "      <th>3</th>\n",
              "      <td>LOS ANGELES</td>\n",
              "      <td>2010</td>\n",
              "      <td>2132-011-025-2010</td>\n",
              "      <td>Residential</td>\n",
              "      <td>Single Family Residence</td>\n",
              "      <td>205877</td>\n",
              "      <td>91335</td>\n",
              "      <td>0</td>\n",
              "      <td>Northwest</td>\n",
              "    </tr>\n",
              "    <tr>\n",
              "      <th>4</th>\n",
              "      <td>LOS ANGELES</td>\n",
              "      <td>2010</td>\n",
              "      <td>2132-013-016-2010</td>\n",
              "      <td>Residential</td>\n",
              "      <td>Single Family Residence</td>\n",
              "      <td>248779</td>\n",
              "      <td>91335</td>\n",
              "      <td>0</td>\n",
              "      <td>Northwest</td>\n",
              "    </tr>\n",
              "    <tr>\n",
              "      <th>...</th>\n",
              "      <td>...</td>\n",
              "      <td>...</td>\n",
              "      <td>...</td>\n",
              "      <td>...</td>\n",
              "      <td>...</td>\n",
              "      <td>...</td>\n",
              "      <td>...</td>\n",
              "      <td>...</td>\n",
              "      <td>...</td>\n",
              "    </tr>\n",
              "    <tr>\n",
              "      <th>5952765</th>\n",
              "      <td>LOS ANGELES</td>\n",
              "      <td>2020</td>\n",
              "      <td>7559-039-161-2020</td>\n",
              "      <td>Residential</td>\n",
              "      <td>Single Family Residence</td>\n",
              "      <td>281430</td>\n",
              "      <td>90732</td>\n",
              "      <td>0</td>\n",
              "      <td>South</td>\n",
              "    </tr>\n",
              "    <tr>\n",
              "      <th>5952766</th>\n",
              "      <td>LOS ANGELES</td>\n",
              "      <td>2020</td>\n",
              "      <td>7562-008-014-2020</td>\n",
              "      <td>Residential</td>\n",
              "      <td>Single Family Residence</td>\n",
              "      <td>106377</td>\n",
              "      <td>90732</td>\n",
              "      <td>0</td>\n",
              "      <td>South</td>\n",
              "    </tr>\n",
              "    <tr>\n",
              "      <th>5952767</th>\n",
              "      <td>LOS ANGELES</td>\n",
              "      <td>2020</td>\n",
              "      <td>7559-014-037-2020</td>\n",
              "      <td>Residential</td>\n",
              "      <td>Single Family Residence</td>\n",
              "      <td>418726</td>\n",
              "      <td>90732</td>\n",
              "      <td>0</td>\n",
              "      <td>South</td>\n",
              "    </tr>\n",
              "    <tr>\n",
              "      <th>5952768</th>\n",
              "      <td>LOS ANGELES</td>\n",
              "      <td>2020</td>\n",
              "      <td>7563-011-011-2020</td>\n",
              "      <td>Residential</td>\n",
              "      <td>Single Family Residence</td>\n",
              "      <td>805073</td>\n",
              "      <td>90732</td>\n",
              "      <td>0</td>\n",
              "      <td>South</td>\n",
              "    </tr>\n",
              "    <tr>\n",
              "      <th>5952769</th>\n",
              "      <td>LOS ANGELES</td>\n",
              "      <td>2020</td>\n",
              "      <td>7559-040-109-2020</td>\n",
              "      <td>Residential</td>\n",
              "      <td>Single Family Residence</td>\n",
              "      <td>189093</td>\n",
              "      <td>90732</td>\n",
              "      <td>0</td>\n",
              "      <td>South</td>\n",
              "    </tr>\n",
              "  </tbody>\n",
              "</table>\n",
              "<p>5931143 rows × 9 columns</p>\n",
              "</div>"
            ],
            "text/plain": [
              "                city  year        assessor_id  ... zip_code train_stops       area\n",
              "0        LOS ANGELES  2010  2368-002-003-2010  ...    91604           1  Northeast\n",
              "1        LOS ANGELES  2010  4305-007-001-2010  ...    90035           0       West\n",
              "2        LOS ANGELES  2010  2040-032-015-2010  ...    91364           0  Northeast\n",
              "3        LOS ANGELES  2010  2132-011-025-2010  ...    91335           0  Northwest\n",
              "4        LOS ANGELES  2010  2132-013-016-2010  ...    91335           0  Northwest\n",
              "...              ...   ...                ...  ...      ...         ...        ...\n",
              "5952765  LOS ANGELES  2020  7559-039-161-2020  ...    90732           0      South\n",
              "5952766  LOS ANGELES  2020  7562-008-014-2020  ...    90732           0      South\n",
              "5952767  LOS ANGELES  2020  7559-014-037-2020  ...    90732           0      South\n",
              "5952768  LOS ANGELES  2020  7563-011-011-2020  ...    90732           0      South\n",
              "5952769  LOS ANGELES  2020  7559-040-109-2020  ...    90732           0      South\n",
              "\n",
              "[5931143 rows x 9 columns]"
            ]
          },
          "metadata": {
            "tags": []
          },
          "execution_count": 16
        }
      ]
    },
    {
      "cell_type": "markdown",
      "metadata": {
        "id": "viKhQmyy6AKj"
      },
      "source": [
        "### Analysis: Examining by Rail Transist Stops Only\n",
        "\n",
        "We will use the groupby function to see how rail stations along affect property value. \n"
      ]
    },
    {
      "cell_type": "code",
      "metadata": {
        "id": "nxHBlLna5nj2",
        "colab": {
          "base_uri": "https://localhost:8080/",
          "height": 266
        },
        "outputId": "36c8e300-7ab0-4cfd-b68e-0de8309c3668"
      },
      "source": [
        "df_spread1 = assessor_data.groupby(\"train_stops\").describe()\n",
        "df_spread1"
      ],
      "execution_count": null,
      "outputs": [
        {
          "output_type": "execute_result",
          "data": {
            "text/html": [
              "<div>\n",
              "<style scoped>\n",
              "    .dataframe tbody tr th:only-of-type {\n",
              "        vertical-align: middle;\n",
              "    }\n",
              "\n",
              "    .dataframe tbody tr th {\n",
              "        vertical-align: top;\n",
              "    }\n",
              "\n",
              "    .dataframe thead tr th {\n",
              "        text-align: left;\n",
              "    }\n",
              "\n",
              "    .dataframe thead tr:last-of-type th {\n",
              "        text-align: right;\n",
              "    }\n",
              "</style>\n",
              "<table border=\"1\" class=\"dataframe\">\n",
              "  <thead>\n",
              "    <tr>\n",
              "      <th></th>\n",
              "      <th colspan=\"8\" halign=\"left\">net_value</th>\n",
              "    </tr>\n",
              "    <tr>\n",
              "      <th></th>\n",
              "      <th>count</th>\n",
              "      <th>mean</th>\n",
              "      <th>std</th>\n",
              "      <th>min</th>\n",
              "      <th>25%</th>\n",
              "      <th>50%</th>\n",
              "      <th>75%</th>\n",
              "      <th>max</th>\n",
              "    </tr>\n",
              "    <tr>\n",
              "      <th>train_stops</th>\n",
              "      <th></th>\n",
              "      <th></th>\n",
              "      <th></th>\n",
              "      <th></th>\n",
              "      <th></th>\n",
              "      <th></th>\n",
              "      <th></th>\n",
              "      <th></th>\n",
              "    </tr>\n",
              "  </thead>\n",
              "  <tbody>\n",
              "    <tr>\n",
              "      <th>0</th>\n",
              "      <td>4595982.0</td>\n",
              "      <td>6.471058e+05</td>\n",
              "      <td>2.919301e+06</td>\n",
              "      <td>0.0</td>\n",
              "      <td>200539.0</td>\n",
              "      <td>351715.0</td>\n",
              "      <td>614237.25</td>\n",
              "      <td>835387855.0</td>\n",
              "    </tr>\n",
              "    <tr>\n",
              "      <th>1</th>\n",
              "      <td>860930.0</td>\n",
              "      <td>7.555079e+05</td>\n",
              "      <td>4.806529e+06</td>\n",
              "      <td>0.0</td>\n",
              "      <td>191940.0</td>\n",
              "      <td>375599.0</td>\n",
              "      <td>667507.00</td>\n",
              "      <td>502747279.0</td>\n",
              "    </tr>\n",
              "    <tr>\n",
              "      <th>2</th>\n",
              "      <td>231170.0</td>\n",
              "      <td>1.192703e+06</td>\n",
              "      <td>7.416736e+06</td>\n",
              "      <td>0.0</td>\n",
              "      <td>214000.0</td>\n",
              "      <td>452500.0</td>\n",
              "      <td>896000.00</td>\n",
              "      <td>873760476.0</td>\n",
              "    </tr>\n",
              "    <tr>\n",
              "      <th>3</th>\n",
              "      <td>199417.0</td>\n",
              "      <td>6.286873e+05</td>\n",
              "      <td>3.801705e+06</td>\n",
              "      <td>0.0</td>\n",
              "      <td>149951.0</td>\n",
              "      <td>315000.0</td>\n",
              "      <td>645436.00</td>\n",
              "      <td>448058019.0</td>\n",
              "    </tr>\n",
              "    <tr>\n",
              "      <th>4</th>\n",
              "      <td>43644.0</td>\n",
              "      <td>6.976946e+05</td>\n",
              "      <td>6.510301e+06</td>\n",
              "      <td>0.0</td>\n",
              "      <td>120411.5</td>\n",
              "      <td>267255.0</td>\n",
              "      <td>523603.00</td>\n",
              "      <td>563204485.0</td>\n",
              "    </tr>\n",
              "  </tbody>\n",
              "</table>\n",
              "</div>"
            ],
            "text/plain": [
              "             net_value                ...                        \n",
              "                 count          mean  ...        75%          max\n",
              "train_stops                           ...                        \n",
              "0            4595982.0  6.471058e+05  ...  614237.25  835387855.0\n",
              "1             860930.0  7.555079e+05  ...  667507.00  502747279.0\n",
              "2             231170.0  1.192703e+06  ...  896000.00  873760476.0\n",
              "3             199417.0  6.286873e+05  ...  645436.00  448058019.0\n",
              "4              43644.0  6.976946e+05  ...  523603.00  563204485.0\n",
              "\n",
              "[5 rows x 8 columns]"
            ]
          },
          "metadata": {
            "tags": []
          },
          "execution_count": 17
        }
      ]
    },
    {
      "cell_type": "markdown",
      "metadata": {
        "id": "TL5WE3QIRWAI"
      },
      "source": [
        "We'll visualize this spread with a boxplox, removing outliers so that it is easier to read. "
      ]
    },
    {
      "cell_type": "code",
      "metadata": {
        "id": "xq8CCSsk7zPn",
        "colab": {
          "base_uri": "https://localhost:8080/",
          "height": 736
        },
        "outputId": "498524a0-a465-4303-f105-3f21f1111812"
      },
      "source": [
        "fig_dims = (10, 10)\n",
        "fig, ax = plt.subplots(figsize=fig_dims)\n",
        "\n",
        "assessor_data.boxplot(column = \"net_value\", by=[\"train_stops\"], ax=ax, showfliers=False)\n",
        "plt.title(\"Property Net Values by Number of Train Stops in Property's Location Zip Code\")\n",
        "plt.xlabel(\"Number of Train Stops in Zip Code\")\n",
        "plt.ylabel(\"Property Net Values\")"
      ],
      "execution_count": null,
      "outputs": [
        {
          "output_type": "stream",
          "text": [
            "/usr/local/lib/python3.7/dist-packages/numpy/core/_asarray.py:83: VisibleDeprecationWarning: Creating an ndarray from ragged nested sequences (which is a list-or-tuple of lists-or-tuples-or ndarrays with different lengths or shapes) is deprecated. If you meant to do this, you must specify 'dtype=object' when creating the ndarray\n",
            "  return array(a, dtype, copy=False, order=order)\n"
          ],
          "name": "stderr"
        },
        {
          "output_type": "execute_result",
          "data": {
            "text/plain": [
              "Text(0, 0.5, 'Property Net Values')"
            ]
          },
          "metadata": {
            "tags": []
          },
          "execution_count": 18
        },
        {
          "output_type": "display_data",
          "data": {
            "image/png": "[encoded data removed]",
            "text/plain": [
              "<Figure size 720x720 with 1 Axes>"
            ]
          },
          "metadata": {
            "tags": []
          }
        }
      ]
    },
    {
      "cell_type": "markdown",
      "metadata": {
        "id": "wrlmVcA0u_E7"
      },
      "source": [
        "According to `df_spread1` and the boxplot above, properties in zip codes with 1 or 2 rail trainsit stops have a higher net value than properties in zip codes with no stops. However, this does not seem to be the case for zip codes with 3 or 4 train stops. After examining our station_zip_codes dictionary, there is a very limited amount of zip codes with greater than 2 stops, which could be causing this difference. \n",
        "\n",
        "Since we did not account for outliers in the above box plot, we'll do a strip plot to get an idea of the whole spread. "
      ]
    },
    {
      "cell_type": "code",
      "metadata": {
        "id": "LrVU-h0dvJI_",
        "colab": {
          "base_uri": "https://localhost:8080/",
          "height": 639
        },
        "outputId": "28af9e28-636e-41f0-93d9-898620d89c64"
      },
      "source": [
        "fig_dims = (10, 10)\n",
        "fig, ax = plt.subplots(figsize=fig_dims)\n",
        "\n",
        "sns.stripplot(x=assessor_data['train_stops'], y=assessor_data['net_value'], ax=ax)"
      ],
      "execution_count": null,
      "outputs": [
        {
          "output_type": "execute_result",
          "data": {
            "text/plain": [
              "<matplotlib.axes._subplots.AxesSubplot at 0x7f09730ed190>"
            ]
          },
          "metadata": {
            "tags": []
          },
          "execution_count": 19
        },
        {
          "output_type": "display_data",
          "data": {
            "image/png": "[encoded data removed]",
            "text/plain": [
              "<Figure size 720x720 with 1 Axes>"
            ]
          },
          "metadata": {
            "tags": []
          }
        }
      ]
    },
    {
      "cell_type": "markdown",
      "metadata": {
        "id": "GpWw8px8NDk2"
      },
      "source": [
        "Zip codes with 1 and 2 train stops have a higher mean and median property value than zip codes with 0, but they seem to have a similar spread even when including outliers. "
      ]
    },
    {
      "cell_type": "markdown",
      "metadata": {
        "id": "g9ZNp_hkQu_0"
      },
      "source": [
        "### Analysis: Examining by Rail Transist Stops, Property Type, Year, and Location\n",
        "\n",
        "To ensure that this is not a case of Simpson's paradox, we'll examine the summary statistics and complete visualizations that group by rail transit stops + property type and  rail transit stops + year. Finally, we'll account for the geographical location. "
      ]
    },
    {
      "cell_type": "code",
      "metadata": {
        "id": "eRSl2ADN58I_",
        "colab": {
          "base_uri": "https://localhost:8080/",
          "height": 731
        },
        "outputId": "239b47bd-f737-4594-c35a-09da1185fff7"
      },
      "source": [
        "#computing summary statistics \n",
        "\n",
        "assessor_data.groupby([\"train_stops\", \"general_use\"]).describe()"
      ],
      "execution_count": null,
      "outputs": [
        {
          "output_type": "execute_result",
          "data": {
            "text/html": [
              "<div>\n",
              "<style scoped>\n",
              "    .dataframe tbody tr th:only-of-type {\n",
              "        vertical-align: middle;\n",
              "    }\n",
              "\n",
              "    .dataframe tbody tr th {\n",
              "        vertical-align: top;\n",
              "    }\n",
              "\n",
              "    .dataframe thead tr th {\n",
              "        text-align: left;\n",
              "    }\n",
              "\n",
              "    .dataframe thead tr:last-of-type th {\n",
              "        text-align: right;\n",
              "    }\n",
              "</style>\n",
              "<table border=\"1\" class=\"dataframe\">\n",
              "  <thead>\n",
              "    <tr>\n",
              "      <th></th>\n",
              "      <th></th>\n",
              "      <th colspan=\"8\" halign=\"left\">net_value</th>\n",
              "    </tr>\n",
              "    <tr>\n",
              "      <th></th>\n",
              "      <th></th>\n",
              "      <th>count</th>\n",
              "      <th>mean</th>\n",
              "      <th>std</th>\n",
              "      <th>min</th>\n",
              "      <th>25%</th>\n",
              "      <th>50%</th>\n",
              "      <th>75%</th>\n",
              "      <th>max</th>\n",
              "    </tr>\n",
              "    <tr>\n",
              "      <th>train_stops</th>\n",
              "      <th>general_use</th>\n",
              "      <th></th>\n",
              "      <th></th>\n",
              "      <th></th>\n",
              "      <th></th>\n",
              "      <th></th>\n",
              "      <th></th>\n",
              "      <th></th>\n",
              "      <th></th>\n",
              "    </tr>\n",
              "  </thead>\n",
              "  <tbody>\n",
              "    <tr>\n",
              "      <th rowspan=\"4\" valign=\"top\">0</th>\n",
              "      <th>Commercial</th>\n",
              "      <td>160134.0</td>\n",
              "      <td>2.242975e+06</td>\n",
              "      <td>1.033145e+07</td>\n",
              "      <td>0.0</td>\n",
              "      <td>258166.00</td>\n",
              "      <td>636540.0</td>\n",
              "      <td>1530000.00</td>\n",
              "      <td>786522000.0</td>\n",
              "    </tr>\n",
              "    <tr>\n",
              "      <th>Industrial</th>\n",
              "      <td>53103.0</td>\n",
              "      <td>2.219301e+06</td>\n",
              "      <td>1.359274e+07</td>\n",
              "      <td>0.0</td>\n",
              "      <td>365351.50</td>\n",
              "      <td>830739.0</td>\n",
              "      <td>1860884.00</td>\n",
              "      <td>835387855.0</td>\n",
              "    </tr>\n",
              "    <tr>\n",
              "      <th>Institutional</th>\n",
              "      <td>16060.0</td>\n",
              "      <td>1.293461e+06</td>\n",
              "      <td>5.510823e+06</td>\n",
              "      <td>0.0</td>\n",
              "      <td>0.00</td>\n",
              "      <td>0.0</td>\n",
              "      <td>650346.25</td>\n",
              "      <td>141518481.0</td>\n",
              "    </tr>\n",
              "    <tr>\n",
              "      <th>Residential</th>\n",
              "      <td>4366685.0</td>\n",
              "      <td>5.670859e+05</td>\n",
              "      <td>1.601757e+06</td>\n",
              "      <td>0.0</td>\n",
              "      <td>199380.00</td>\n",
              "      <td>346000.0</td>\n",
              "      <td>592000.00</td>\n",
              "      <td>372167588.0</td>\n",
              "    </tr>\n",
              "    <tr>\n",
              "      <th rowspan=\"4\" valign=\"top\">1</th>\n",
              "      <th>Commercial</th>\n",
              "      <td>61392.0</td>\n",
              "      <td>2.697778e+06</td>\n",
              "      <td>1.587067e+07</td>\n",
              "      <td>0.0</td>\n",
              "      <td>222512.25</td>\n",
              "      <td>531696.5</td>\n",
              "      <td>1285620.00</td>\n",
              "      <td>502747279.0</td>\n",
              "    </tr>\n",
              "    <tr>\n",
              "      <th>Industrial</th>\n",
              "      <td>13177.0</td>\n",
              "      <td>1.834075e+06</td>\n",
              "      <td>5.881557e+06</td>\n",
              "      <td>0.0</td>\n",
              "      <td>274491.00</td>\n",
              "      <td>694305.0</td>\n",
              "      <td>1520173.00</td>\n",
              "      <td>143692829.0</td>\n",
              "    </tr>\n",
              "    <tr>\n",
              "      <th>Institutional</th>\n",
              "      <td>4353.0</td>\n",
              "      <td>1.119127e+06</td>\n",
              "      <td>4.788078e+06</td>\n",
              "      <td>0.0</td>\n",
              "      <td>0.00</td>\n",
              "      <td>0.0</td>\n",
              "      <td>619284.00</td>\n",
              "      <td>117740000.0</td>\n",
              "    </tr>\n",
              "    <tr>\n",
              "      <th>Residential</th>\n",
              "      <td>782008.0</td>\n",
              "      <td>5.828307e+05</td>\n",
              "      <td>2.145697e+06</td>\n",
              "      <td>0.0</td>\n",
              "      <td>191075.50</td>\n",
              "      <td>367303.0</td>\n",
              "      <td>638700.00</td>\n",
              "      <td>438405496.0</td>\n",
              "    </tr>\n",
              "    <tr>\n",
              "      <th rowspan=\"4\" valign=\"top\">2</th>\n",
              "      <th>Commercial</th>\n",
              "      <td>26651.0</td>\n",
              "      <td>3.781548e+06</td>\n",
              "      <td>1.790981e+07</td>\n",
              "      <td>0.0</td>\n",
              "      <td>286859.50</td>\n",
              "      <td>860938.0</td>\n",
              "      <td>2189110.50</td>\n",
              "      <td>546883675.0</td>\n",
              "    </tr>\n",
              "    <tr>\n",
              "      <th>Industrial</th>\n",
              "      <td>5528.0</td>\n",
              "      <td>2.165449e+06</td>\n",
              "      <td>7.585946e+06</td>\n",
              "      <td>0.0</td>\n",
              "      <td>262503.00</td>\n",
              "      <td>694500.5</td>\n",
              "      <td>1874244.25</td>\n",
              "      <td>227727230.0</td>\n",
              "    </tr>\n",
              "    <tr>\n",
              "      <th>Institutional</th>\n",
              "      <td>1817.0</td>\n",
              "      <td>3.480781e+06</td>\n",
              "      <td>3.055566e+07</td>\n",
              "      <td>0.0</td>\n",
              "      <td>0.00</td>\n",
              "      <td>49961.0</td>\n",
              "      <td>799885.00</td>\n",
              "      <td>873760476.0</td>\n",
              "    </tr>\n",
              "    <tr>\n",
              "      <th>Residential</th>\n",
              "      <td>197174.0</td>\n",
              "      <td>7.944251e+05</td>\n",
              "      <td>3.128347e+06</td>\n",
              "      <td>0.0</td>\n",
              "      <td>211289.50</td>\n",
              "      <td>428911.5</td>\n",
              "      <td>799989.75</td>\n",
              "      <td>233232450.0</td>\n",
              "    </tr>\n",
              "    <tr>\n",
              "      <th rowspan=\"4\" valign=\"top\">3</th>\n",
              "      <th>Commercial</th>\n",
              "      <td>11360.0</td>\n",
              "      <td>2.108596e+06</td>\n",
              "      <td>8.351741e+06</td>\n",
              "      <td>0.0</td>\n",
              "      <td>222024.50</td>\n",
              "      <td>498366.5</td>\n",
              "      <td>1256854.00</td>\n",
              "      <td>240069423.0</td>\n",
              "    </tr>\n",
              "    <tr>\n",
              "      <th>Industrial</th>\n",
              "      <td>4427.0</td>\n",
              "      <td>2.812349e+06</td>\n",
              "      <td>2.092058e+07</td>\n",
              "      <td>0.0</td>\n",
              "      <td>269492.50</td>\n",
              "      <td>622760.0</td>\n",
              "      <td>1427559.50</td>\n",
              "      <td>448058019.0</td>\n",
              "    </tr>\n",
              "    <tr>\n",
              "      <th>Institutional</th>\n",
              "      <td>939.0</td>\n",
              "      <td>5.812910e+05</td>\n",
              "      <td>1.965654e+06</td>\n",
              "      <td>0.0</td>\n",
              "      <td>0.00</td>\n",
              "      <td>0.0</td>\n",
              "      <td>378934.50</td>\n",
              "      <td>26343384.0</td>\n",
              "    </tr>\n",
              "    <tr>\n",
              "      <th>Residential</th>\n",
              "      <td>182691.0</td>\n",
              "      <td>4.839931e+05</td>\n",
              "      <td>7.371541e+05</td>\n",
              "      <td>0.0</td>\n",
              "      <td>146174.50</td>\n",
              "      <td>304706.0</td>\n",
              "      <td>615400.00</td>\n",
              "      <td>115417773.0</td>\n",
              "    </tr>\n",
              "    <tr>\n",
              "      <th rowspan=\"4\" valign=\"top\">4</th>\n",
              "      <th>Commercial</th>\n",
              "      <td>5088.0</td>\n",
              "      <td>1.446524e+06</td>\n",
              "      <td>5.244127e+06</td>\n",
              "      <td>0.0</td>\n",
              "      <td>112992.50</td>\n",
              "      <td>352276.5</td>\n",
              "      <td>887156.75</td>\n",
              "      <td>203920958.0</td>\n",
              "    </tr>\n",
              "    <tr>\n",
              "      <th>Industrial</th>\n",
              "      <td>4730.0</td>\n",
              "      <td>8.993087e+05</td>\n",
              "      <td>1.325593e+06</td>\n",
              "      <td>0.0</td>\n",
              "      <td>246280.25</td>\n",
              "      <td>560097.0</td>\n",
              "      <td>1034785.00</td>\n",
              "      <td>29651400.0</td>\n",
              "    </tr>\n",
              "    <tr>\n",
              "      <th>Institutional</th>\n",
              "      <td>833.0</td>\n",
              "      <td>1.721859e+06</td>\n",
              "      <td>2.024746e+07</td>\n",
              "      <td>0.0</td>\n",
              "      <td>0.00</td>\n",
              "      <td>0.0</td>\n",
              "      <td>274575.00</td>\n",
              "      <td>563204485.0</td>\n",
              "    </tr>\n",
              "    <tr>\n",
              "      <th>Residential</th>\n",
              "      <td>32993.0</td>\n",
              "      <td>5.274522e+05</td>\n",
              "      <td>6.410045e+06</td>\n",
              "      <td>0.0</td>\n",
              "      <td>119511.00</td>\n",
              "      <td>248060.0</td>\n",
              "      <td>430174.00</td>\n",
              "      <td>489432023.0</td>\n",
              "    </tr>\n",
              "  </tbody>\n",
              "</table>\n",
              "</div>"
            ],
            "text/plain": [
              "                           net_value                ...                         \n",
              "                               count          mean  ...         75%          max\n",
              "train_stops general_use                             ...                         \n",
              "0           Commercial      160134.0  2.242975e+06  ...  1530000.00  786522000.0\n",
              "            Industrial       53103.0  2.219301e+06  ...  1860884.00  835387855.0\n",
              "            Institutional    16060.0  1.293461e+06  ...   650346.25  141518481.0\n",
              "            Residential    4366685.0  5.670859e+05  ...   592000.00  372167588.0\n",
              "1           Commercial       61392.0  2.697778e+06  ...  1285620.00  502747279.0\n",
              "            Industrial       13177.0  1.834075e+06  ...  1520173.00  143692829.0\n",
              "            Institutional     4353.0  1.119127e+06  ...   619284.00  117740000.0\n",
              "            Residential     782008.0  5.828307e+05  ...   638700.00  438405496.0\n",
              "2           Commercial       26651.0  3.781548e+06  ...  2189110.50  546883675.0\n",
              "            Industrial        5528.0  2.165449e+06  ...  1874244.25  227727230.0\n",
              "            Institutional     1817.0  3.480781e+06  ...   799885.00  873760476.0\n",
              "            Residential     197174.0  7.944251e+05  ...   799989.75  233232450.0\n",
              "3           Commercial       11360.0  2.108596e+06  ...  1256854.00  240069423.0\n",
              "            Industrial        4427.0  2.812349e+06  ...  1427559.50  448058019.0\n",
              "            Institutional      939.0  5.812910e+05  ...   378934.50   26343384.0\n",
              "            Residential     182691.0  4.839931e+05  ...   615400.00  115417773.0\n",
              "4           Commercial        5088.0  1.446524e+06  ...   887156.75  203920958.0\n",
              "            Industrial        4730.0  8.993087e+05  ...  1034785.00   29651400.0\n",
              "            Institutional      833.0  1.721859e+06  ...   274575.00  563204485.0\n",
              "            Residential      32993.0  5.274522e+05  ...   430174.00  489432023.0\n",
              "\n",
              "[20 rows x 8 columns]"
            ]
          },
          "metadata": {
            "tags": []
          },
          "execution_count": 20
        }
      ]
    },
    {
      "cell_type": "markdown",
      "metadata": {
        "id": "cA_gQNf47wmV"
      },
      "source": [
        "Visualizing with a  boxplot that represents the distribution of property values from 2010 to 2020 by train_stop status. "
      ]
    },
    {
      "cell_type": "code",
      "metadata": {
        "id": "HXQEDp2_-VwJ",
        "colab": {
          "base_uri": "https://localhost:8080/",
          "height": 639
        },
        "outputId": "3b6eaedc-00f5-4315-8c3f-6ea0eac25889"
      },
      "source": [
        "fig_dims = (10, 10)\n",
        "fig, ax = plt.subplots(figsize=fig_dims)\n",
        "sns.boxplot(x=\"general_use\", y='net_value', hue=\"train_stops\", data=assessor_data, showfliers=False)"
      ],
      "execution_count": null,
      "outputs": [
        {
          "output_type": "execute_result",
          "data": {
            "text/plain": [
              "<matplotlib.axes._subplots.AxesSubplot at 0x7f0972adf190>"
            ]
          },
          "metadata": {
            "tags": []
          },
          "execution_count": 22
        },
        {
          "output_type": "display_data",
          "data": {
            "image/png": "[encoded data removed]",
            "text/plain": [
              "<Figure size 720x720 with 1 Axes>"
            ]
          },
          "metadata": {
            "tags": []
          }
        }
      ]
    },
    {
      "cell_type": "markdown",
      "metadata": {
        "id": "vZqCT3C5_buo"
      },
      "source": [
        "From this graph, we see that for commercial and residential properties, the median and mean of property values is higher for zip codes with 2 stops. However, this trend is not consistent for zip codes with 1 train stop."
      ]
    },
    {
      "cell_type": "markdown",
      "metadata": {
        "id": "eYKO5D9sAsF_"
      },
      "source": [
        "###Group by train stops and year \n",
        "\n",
        "So far our anaylsis has not considered how property values have changes over time. We will now graph the mean property value for all types from 2010 to 2020."
      ]
    },
    {
      "cell_type": "code",
      "metadata": {
        "id": "0kbC6fAJSXIy"
      },
      "source": [
        "line_graph_time= assessor_data.groupby(by=[\"year\", \"train_stops\"]).mean().reset_index()"
      ],
      "execution_count": null,
      "outputs": []
    },
    {
      "cell_type": "code",
      "metadata": {
        "id": "ByHBkOswSjrZ",
        "colab": {
          "base_uri": "https://localhost:8080/",
          "height": 1000
        },
        "outputId": "b5fda825-28b2-4edb-f4bd-4b3af2aa2736"
      },
      "source": [
        "line_graph_time"
      ],
      "execution_count": null,
      "outputs": [
        {
          "output_type": "execute_result",
          "data": {
            "text/html": [
              "<div>\n",
              "<style scoped>\n",
              "    .dataframe tbody tr th:only-of-type {\n",
              "        vertical-align: middle;\n",
              "    }\n",
              "\n",
              "    .dataframe tbody tr th {\n",
              "        vertical-align: top;\n",
              "    }\n",
              "\n",
              "    .dataframe thead th {\n",
              "        text-align: right;\n",
              "    }\n",
              "</style>\n",
              "<table border=\"1\" class=\"dataframe\">\n",
              "  <thead>\n",
              "    <tr style=\"text-align: right;\">\n",
              "      <th></th>\n",
              "      <th>year</th>\n",
              "      <th>train_stops</th>\n",
              "      <th>net_value</th>\n",
              "    </tr>\n",
              "  </thead>\n",
              "  <tbody>\n",
              "    <tr>\n",
              "      <th>0</th>\n",
              "      <td>2010</td>\n",
              "      <td>0</td>\n",
              "      <td>5.066497e+05</td>\n",
              "    </tr>\n",
              "    <tr>\n",
              "      <th>1</th>\n",
              "      <td>2010</td>\n",
              "      <td>1</td>\n",
              "      <td>5.667256e+05</td>\n",
              "    </tr>\n",
              "    <tr>\n",
              "      <th>2</th>\n",
              "      <td>2010</td>\n",
              "      <td>2</td>\n",
              "      <td>8.698168e+05</td>\n",
              "    </tr>\n",
              "    <tr>\n",
              "      <th>3</th>\n",
              "      <td>2010</td>\n",
              "      <td>3</td>\n",
              "      <td>4.894958e+05</td>\n",
              "    </tr>\n",
              "    <tr>\n",
              "      <th>4</th>\n",
              "      <td>2010</td>\n",
              "      <td>4</td>\n",
              "      <td>4.834206e+05</td>\n",
              "    </tr>\n",
              "    <tr>\n",
              "      <th>5</th>\n",
              "      <td>2011</td>\n",
              "      <td>0</td>\n",
              "      <td>5.159691e+05</td>\n",
              "    </tr>\n",
              "    <tr>\n",
              "      <th>6</th>\n",
              "      <td>2011</td>\n",
              "      <td>1</td>\n",
              "      <td>5.742319e+05</td>\n",
              "    </tr>\n",
              "    <tr>\n",
              "      <th>7</th>\n",
              "      <td>2011</td>\n",
              "      <td>2</td>\n",
              "      <td>8.660406e+05</td>\n",
              "    </tr>\n",
              "    <tr>\n",
              "      <th>8</th>\n",
              "      <td>2011</td>\n",
              "      <td>3</td>\n",
              "      <td>4.968023e+05</td>\n",
              "    </tr>\n",
              "    <tr>\n",
              "      <th>9</th>\n",
              "      <td>2011</td>\n",
              "      <td>4</td>\n",
              "      <td>4.972439e+05</td>\n",
              "    </tr>\n",
              "    <tr>\n",
              "      <th>10</th>\n",
              "      <td>2012</td>\n",
              "      <td>0</td>\n",
              "      <td>5.275271e+05</td>\n",
              "    </tr>\n",
              "    <tr>\n",
              "      <th>11</th>\n",
              "      <td>2012</td>\n",
              "      <td>1</td>\n",
              "      <td>5.902995e+05</td>\n",
              "    </tr>\n",
              "    <tr>\n",
              "      <th>12</th>\n",
              "      <td>2012</td>\n",
              "      <td>2</td>\n",
              "      <td>9.103295e+05</td>\n",
              "    </tr>\n",
              "    <tr>\n",
              "      <th>13</th>\n",
              "      <td>2012</td>\n",
              "      <td>3</td>\n",
              "      <td>5.116963e+05</td>\n",
              "    </tr>\n",
              "    <tr>\n",
              "      <th>14</th>\n",
              "      <td>2012</td>\n",
              "      <td>4</td>\n",
              "      <td>5.018868e+05</td>\n",
              "    </tr>\n",
              "    <tr>\n",
              "      <th>15</th>\n",
              "      <td>2013</td>\n",
              "      <td>0</td>\n",
              "      <td>5.558024e+05</td>\n",
              "    </tr>\n",
              "    <tr>\n",
              "      <th>16</th>\n",
              "      <td>2013</td>\n",
              "      <td>1</td>\n",
              "      <td>6.282073e+05</td>\n",
              "    </tr>\n",
              "    <tr>\n",
              "      <th>17</th>\n",
              "      <td>2013</td>\n",
              "      <td>2</td>\n",
              "      <td>9.705432e+05</td>\n",
              "    </tr>\n",
              "    <tr>\n",
              "      <th>18</th>\n",
              "      <td>2013</td>\n",
              "      <td>3</td>\n",
              "      <td>5.324658e+05</td>\n",
              "    </tr>\n",
              "    <tr>\n",
              "      <th>19</th>\n",
              "      <td>2013</td>\n",
              "      <td>4</td>\n",
              "      <td>5.825333e+05</td>\n",
              "    </tr>\n",
              "    <tr>\n",
              "      <th>20</th>\n",
              "      <td>2014</td>\n",
              "      <td>0</td>\n",
              "      <td>5.887579e+05</td>\n",
              "    </tr>\n",
              "    <tr>\n",
              "      <th>21</th>\n",
              "      <td>2014</td>\n",
              "      <td>1</td>\n",
              "      <td>6.710703e+05</td>\n",
              "    </tr>\n",
              "    <tr>\n",
              "      <th>22</th>\n",
              "      <td>2014</td>\n",
              "      <td>2</td>\n",
              "      <td>1.018385e+06</td>\n",
              "    </tr>\n",
              "    <tr>\n",
              "      <th>23</th>\n",
              "      <td>2014</td>\n",
              "      <td>3</td>\n",
              "      <td>5.619654e+05</td>\n",
              "    </tr>\n",
              "    <tr>\n",
              "      <th>24</th>\n",
              "      <td>2014</td>\n",
              "      <td>4</td>\n",
              "      <td>5.593435e+05</td>\n",
              "    </tr>\n",
              "    <tr>\n",
              "      <th>25</th>\n",
              "      <td>2015</td>\n",
              "      <td>0</td>\n",
              "      <td>6.276851e+05</td>\n",
              "    </tr>\n",
              "    <tr>\n",
              "      <th>26</th>\n",
              "      <td>2015</td>\n",
              "      <td>1</td>\n",
              "      <td>7.292724e+05</td>\n",
              "    </tr>\n",
              "    <tr>\n",
              "      <th>27</th>\n",
              "      <td>2015</td>\n",
              "      <td>2</td>\n",
              "      <td>1.112770e+06</td>\n",
              "    </tr>\n",
              "    <tr>\n",
              "      <th>28</th>\n",
              "      <td>2015</td>\n",
              "      <td>3</td>\n",
              "      <td>5.993561e+05</td>\n",
              "    </tr>\n",
              "    <tr>\n",
              "      <th>29</th>\n",
              "      <td>2015</td>\n",
              "      <td>4</td>\n",
              "      <td>6.748601e+05</td>\n",
              "    </tr>\n",
              "    <tr>\n",
              "      <th>30</th>\n",
              "      <td>2016</td>\n",
              "      <td>0</td>\n",
              "      <td>6.677415e+05</td>\n",
              "    </tr>\n",
              "    <tr>\n",
              "      <th>31</th>\n",
              "      <td>2016</td>\n",
              "      <td>1</td>\n",
              "      <td>7.764438e+05</td>\n",
              "    </tr>\n",
              "    <tr>\n",
              "      <th>32</th>\n",
              "      <td>2016</td>\n",
              "      <td>2</td>\n",
              "      <td>1.217677e+06</td>\n",
              "    </tr>\n",
              "    <tr>\n",
              "      <th>33</th>\n",
              "      <td>2016</td>\n",
              "      <td>3</td>\n",
              "      <td>6.350195e+05</td>\n",
              "    </tr>\n",
              "    <tr>\n",
              "      <th>34</th>\n",
              "      <td>2016</td>\n",
              "      <td>4</td>\n",
              "      <td>7.194830e+05</td>\n",
              "    </tr>\n",
              "    <tr>\n",
              "      <th>35</th>\n",
              "      <td>2017</td>\n",
              "      <td>0</td>\n",
              "      <td>7.110215e+05</td>\n",
              "    </tr>\n",
              "    <tr>\n",
              "      <th>36</th>\n",
              "      <td>2017</td>\n",
              "      <td>1</td>\n",
              "      <td>8.270016e+05</td>\n",
              "    </tr>\n",
              "    <tr>\n",
              "      <th>37</th>\n",
              "      <td>2017</td>\n",
              "      <td>2</td>\n",
              "      <td>1.317752e+06</td>\n",
              "    </tr>\n",
              "    <tr>\n",
              "      <th>38</th>\n",
              "      <td>2017</td>\n",
              "      <td>3</td>\n",
              "      <td>6.846924e+05</td>\n",
              "    </tr>\n",
              "    <tr>\n",
              "      <th>39</th>\n",
              "      <td>2017</td>\n",
              "      <td>4</td>\n",
              "      <td>7.774555e+05</td>\n",
              "    </tr>\n",
              "    <tr>\n",
              "      <th>40</th>\n",
              "      <td>2018</td>\n",
              "      <td>0</td>\n",
              "      <td>7.553560e+05</td>\n",
              "    </tr>\n",
              "    <tr>\n",
              "      <th>41</th>\n",
              "      <td>2018</td>\n",
              "      <td>1</td>\n",
              "      <td>8.942321e+05</td>\n",
              "    </tr>\n",
              "    <tr>\n",
              "      <th>42</th>\n",
              "      <td>2018</td>\n",
              "      <td>2</td>\n",
              "      <td>1.493132e+06</td>\n",
              "    </tr>\n",
              "    <tr>\n",
              "      <th>43</th>\n",
              "      <td>2018</td>\n",
              "      <td>3</td>\n",
              "      <td>7.416372e+05</td>\n",
              "    </tr>\n",
              "    <tr>\n",
              "      <th>44</th>\n",
              "      <td>2018</td>\n",
              "      <td>4</td>\n",
              "      <td>9.659971e+05</td>\n",
              "    </tr>\n",
              "    <tr>\n",
              "      <th>45</th>\n",
              "      <td>2019</td>\n",
              "      <td>0</td>\n",
              "      <td>8.027008e+05</td>\n",
              "    </tr>\n",
              "    <tr>\n",
              "      <th>46</th>\n",
              "      <td>2019</td>\n",
              "      <td>1</td>\n",
              "      <td>9.752637e+05</td>\n",
              "    </tr>\n",
              "    <tr>\n",
              "      <th>47</th>\n",
              "      <td>2019</td>\n",
              "      <td>2</td>\n",
              "      <td>1.566196e+06</td>\n",
              "    </tr>\n",
              "    <tr>\n",
              "      <th>48</th>\n",
              "      <td>2019</td>\n",
              "      <td>3</td>\n",
              "      <td>7.952510e+05</td>\n",
              "    </tr>\n",
              "    <tr>\n",
              "      <th>49</th>\n",
              "      <td>2019</td>\n",
              "      <td>4</td>\n",
              "      <td>9.505107e+05</td>\n",
              "    </tr>\n",
              "    <tr>\n",
              "      <th>50</th>\n",
              "      <td>2020</td>\n",
              "      <td>0</td>\n",
              "      <td>8.540232e+05</td>\n",
              "    </tr>\n",
              "    <tr>\n",
              "      <th>51</th>\n",
              "      <td>2020</td>\n",
              "      <td>1</td>\n",
              "      <td>1.055960e+06</td>\n",
              "    </tr>\n",
              "    <tr>\n",
              "      <th>52</th>\n",
              "      <td>2020</td>\n",
              "      <td>2</td>\n",
              "      <td>1.748094e+06</td>\n",
              "    </tr>\n",
              "    <tr>\n",
              "      <th>53</th>\n",
              "      <td>2020</td>\n",
              "      <td>3</td>\n",
              "      <td>8.684770e+05</td>\n",
              "    </tr>\n",
              "    <tr>\n",
              "      <th>54</th>\n",
              "      <td>2020</td>\n",
              "      <td>4</td>\n",
              "      <td>9.688292e+05</td>\n",
              "    </tr>\n",
              "  </tbody>\n",
              "</table>\n",
              "</div>"
            ],
            "text/plain": [
              "    year train_stops     net_value\n",
              "0   2010           0  5.066497e+05\n",
              "1   2010           1  5.667256e+05\n",
              "2   2010           2  8.698168e+05\n",
              "3   2010           3  4.894958e+05\n",
              "4   2010           4  4.834206e+05\n",
              "5   2011           0  5.159691e+05\n",
              "6   2011           1  5.742319e+05\n",
              "7   2011           2  8.660406e+05\n",
              "8   2011           3  4.968023e+05\n",
              "9   2011           4  4.972439e+05\n",
              "10  2012           0  5.275271e+05\n",
              "11  2012           1  5.902995e+05\n",
              "12  2012           2  9.103295e+05\n",
              "13  2012           3  5.116963e+05\n",
              "14  2012           4  5.018868e+05\n",
              "15  2013           0  5.558024e+05\n",
              "16  2013           1  6.282073e+05\n",
              "17  2013           2  9.705432e+05\n",
              "18  2013           3  5.324658e+05\n",
              "19  2013           4  5.825333e+05\n",
              "20  2014           0  5.887579e+05\n",
              "21  2014           1  6.710703e+05\n",
              "22  2014           2  1.018385e+06\n",
              "23  2014           3  5.619654e+05\n",
              "24  2014           4  5.593435e+05\n",
              "25  2015           0  6.276851e+05\n",
              "26  2015           1  7.292724e+05\n",
              "27  2015           2  1.112770e+06\n",
              "28  2015           3  5.993561e+05\n",
              "29  2015           4  6.748601e+05\n",
              "30  2016           0  6.677415e+05\n",
              "31  2016           1  7.764438e+05\n",
              "32  2016           2  1.217677e+06\n",
              "33  2016           3  6.350195e+05\n",
              "34  2016           4  7.194830e+05\n",
              "35  2017           0  7.110215e+05\n",
              "36  2017           1  8.270016e+05\n",
              "37  2017           2  1.317752e+06\n",
              "38  2017           3  6.846924e+05\n",
              "39  2017           4  7.774555e+05\n",
              "40  2018           0  7.553560e+05\n",
              "41  2018           1  8.942321e+05\n",
              "42  2018           2  1.493132e+06\n",
              "43  2018           3  7.416372e+05\n",
              "44  2018           4  9.659971e+05\n",
              "45  2019           0  8.027008e+05\n",
              "46  2019           1  9.752637e+05\n",
              "47  2019           2  1.566196e+06\n",
              "48  2019           3  7.952510e+05\n",
              "49  2019           4  9.505107e+05\n",
              "50  2020           0  8.540232e+05\n",
              "51  2020           1  1.055960e+06\n",
              "52  2020           2  1.748094e+06\n",
              "53  2020           3  8.684770e+05\n",
              "54  2020           4  9.688292e+05"
            ]
          },
          "metadata": {
            "tags": []
          },
          "execution_count": 26
        }
      ]
    },
    {
      "cell_type": "code",
      "metadata": {
        "id": "gELZN6lQNnI3",
        "colab": {
          "base_uri": "https://localhost:8080/",
          "height": 644
        },
        "outputId": "030e2549-cec3-4579-97b7-b4eed39ae7f3"
      },
      "source": [
        "fig_dims = (10, 10)\n",
        "fig, ax = plt.subplots(figsize=fig_dims)\n",
        "sns.lineplot(x=df[\"year\"], y=df[\"net_value\"], hue=df[\"train_stops\"], ax=ax)\n",
        "plt.title(\"Average Property Value by Year\")\n",
        "plt.ylabel(\"Average Net Property Value\")"
      ],
      "execution_count": null,
      "outputs": [
        {
          "output_type": "execute_result",
          "data": {
            "text/plain": [
              "Text(0, 0.5, 'Average Net Property Value')"
            ]
          },
          "metadata": {
            "tags": []
          },
          "execution_count": 27
        },
        {
          "output_type": "display_data",
          "data": {
            "image/png": "[encoded data removed]",
            "text/plain": [
              "<Figure size 720x720 with 1 Axes>"
            ]
          },
          "metadata": {
            "tags": []
          }
        }
      ]
    },
    {
      "cell_type": "markdown",
      "metadata": {
        "id": "_ECmEEf9TqPa"
      },
      "source": [
        "Our line graph shows that the average property value for zip codes with 2 stops and 1 stop have been higher than those with no stops. The average for 2 and 1 stops also seems to have a steeper slope than the 1 stop line, which could mean that the rate of increase is highe - however, this will need to be verified with further analysis. "
      ]
    },
    {
      "cell_type": "markdown",
      "metadata": {
        "id": "arizSgWRBBrX"
      },
      "source": [
        "### Analysis: Accounting for Area \n",
        "\n",
        "Like many US cities, different areas of the city have different economic profiles. For example, West Los Angeles, which includes UCLA/Westwood, Beverly Hills adjacent neighborhoods, and beach neighborhoods, is considerably more wealthy than most other areas of the city. \n",
        "\n",
        "\n",
        "Therefore, when considering the geographical location of a zip code is also important to consider. We have included an area feature in our data to group together zip codes that would likely have similar confounder variables that we are not aware. \n",
        "\n",
        "\n",
        "First - we'll create  box plot of the full assessor data to compare the spread among the different areas. Then, we'll create a facetgrid of line graphs to visualize how avgerage property value has changed over time for each area and train stop status. \n"
      ]
    },
    {
      "cell_type": "code",
      "metadata": {
        "id": "kwEi7LaVCBEX",
        "colab": {
          "base_uri": "https://localhost:8080/",
          "height": 644
        },
        "outputId": "28642633-e111-4f2c-b8f3-ae20ae530a2d"
      },
      "source": [
        "fig_dims = (10, 10)\n",
        "fig, ax = plt.subplots(figsize=fig_dims)\n",
        "sns.boxplot(x=\"area\", y='net_value', hue=\"train_stops\", data=assessor_data, showfliers=False)\n",
        "plt.title(\"Property Value per Area\")"
      ],
      "execution_count": null,
      "outputs": [
        {
          "output_type": "execute_result",
          "data": {
            "text/plain": [
              "Text(0.5, 1.0, 'Property Value per Area')"
            ]
          },
          "metadata": {
            "tags": []
          },
          "execution_count": 28
        },
        {
          "output_type": "display_data",
          "data": {
            "image/png": "[encoded data removed]",
            "text/plain": [
              "<Figure size 720x720 with 1 Axes>"
            ]
          },
          "metadata": {
            "tags": []
          }
        }
      ]
    },
    {
      "cell_type": "markdown",
      "metadata": {
        "id": "P2mePyGNErZx"
      },
      "source": [
        ""
      ]
    },
    {
      "cell_type": "code",
      "metadata": {
        "colab": {
          "base_uri": "https://localhost:8080/",
          "height": 419
        },
        "id": "HH_-nRmg8jZJ",
        "outputId": "d9063b55-8f7d-451c-d2f1-5910a25de81c"
      },
      "source": [
        "line_graph= assessor_data.groupby(by=[\"year\",\"area\", \"train_stops\"]).mean().reset_index().dropna()\n",
        "line_graph"
      ],
      "execution_count": null,
      "outputs": [
        {
          "output_type": "execute_result",
          "data": {
            "text/html": [
              "<div>\n",
              "<style scoped>\n",
              "    .dataframe tbody tr th:only-of-type {\n",
              "        vertical-align: middle;\n",
              "    }\n",
              "\n",
              "    .dataframe tbody tr th {\n",
              "        vertical-align: top;\n",
              "    }\n",
              "\n",
              "    .dataframe thead th {\n",
              "        text-align: right;\n",
              "    }\n",
              "</style>\n",
              "<table border=\"1\" class=\"dataframe\">\n",
              "  <thead>\n",
              "    <tr style=\"text-align: right;\">\n",
              "      <th></th>\n",
              "      <th>year</th>\n",
              "      <th>area</th>\n",
              "      <th>train_stops</th>\n",
              "      <th>net_value</th>\n",
              "    </tr>\n",
              "  </thead>\n",
              "  <tbody>\n",
              "    <tr>\n",
              "      <th>0</th>\n",
              "      <td>2010</td>\n",
              "      <td>Central</td>\n",
              "      <td>0</td>\n",
              "      <td>3.413052e+05</td>\n",
              "    </tr>\n",
              "    <tr>\n",
              "      <th>1</th>\n",
              "      <td>2010</td>\n",
              "      <td>Central</td>\n",
              "      <td>1</td>\n",
              "      <td>4.853160e+05</td>\n",
              "    </tr>\n",
              "    <tr>\n",
              "      <th>2</th>\n",
              "      <td>2010</td>\n",
              "      <td>Central</td>\n",
              "      <td>2</td>\n",
              "      <td>7.202682e+05</td>\n",
              "    </tr>\n",
              "    <tr>\n",
              "      <th>4</th>\n",
              "      <td>2010</td>\n",
              "      <td>Central</td>\n",
              "      <td>4</td>\n",
              "      <td>4.834206e+05</td>\n",
              "    </tr>\n",
              "    <tr>\n",
              "      <th>5</th>\n",
              "      <td>2010</td>\n",
              "      <td>Northeast</td>\n",
              "      <td>0</td>\n",
              "      <td>4.159616e+05</td>\n",
              "    </tr>\n",
              "    <tr>\n",
              "      <th>...</th>\n",
              "      <td>...</td>\n",
              "      <td>...</td>\n",
              "      <td>...</td>\n",
              "      <td>...</td>\n",
              "    </tr>\n",
              "    <tr>\n",
              "      <th>265</th>\n",
              "      <td>2020</td>\n",
              "      <td>South</td>\n",
              "      <td>0</td>\n",
              "      <td>5.229399e+05</td>\n",
              "    </tr>\n",
              "    <tr>\n",
              "      <th>270</th>\n",
              "      <td>2020</td>\n",
              "      <td>West</td>\n",
              "      <td>0</td>\n",
              "      <td>1.347977e+06</td>\n",
              "    </tr>\n",
              "    <tr>\n",
              "      <th>271</th>\n",
              "      <td>2020</td>\n",
              "      <td>West</td>\n",
              "      <td>1</td>\n",
              "      <td>1.100942e+06</td>\n",
              "    </tr>\n",
              "    <tr>\n",
              "      <th>272</th>\n",
              "      <td>2020</td>\n",
              "      <td>West</td>\n",
              "      <td>2</td>\n",
              "      <td>2.487256e+06</td>\n",
              "    </tr>\n",
              "    <tr>\n",
              "      <th>273</th>\n",
              "      <td>2020</td>\n",
              "      <td>West</td>\n",
              "      <td>3</td>\n",
              "      <td>8.684770e+05</td>\n",
              "    </tr>\n",
              "  </tbody>\n",
              "</table>\n",
              "<p>132 rows × 4 columns</p>\n",
              "</div>"
            ],
            "text/plain": [
              "     year       area train_stops     net_value\n",
              "0    2010    Central           0  3.413052e+05\n",
              "1    2010    Central           1  4.853160e+05\n",
              "2    2010    Central           2  7.202682e+05\n",
              "4    2010    Central           4  4.834206e+05\n",
              "5    2010  Northeast           0  4.159616e+05\n",
              "..    ...        ...         ...           ...\n",
              "265  2020      South           0  5.229399e+05\n",
              "270  2020       West           0  1.347977e+06\n",
              "271  2020       West           1  1.100942e+06\n",
              "272  2020       West           2  2.487256e+06\n",
              "273  2020       West           3  8.684770e+05\n",
              "\n",
              "[132 rows x 4 columns]"
            ]
          },
          "metadata": {
            "tags": []
          },
          "execution_count": 29
        }
      ]
    },
    {
      "cell_type": "code",
      "metadata": {
        "colab": {
          "base_uri": "https://localhost:8080/",
          "height": 268
        },
        "id": "p_eWZ96tDWx-",
        "outputId": "10806bbe-5d00-42e2-a254-2ea5556531cc"
      },
      "source": [
        "g = sns.FacetGrid(line_graph, col='area', hue='train_stops', height=5)\n",
        "g.map(sns.lineplot, \"year\",\"net_value\")\n",
        "g.add_legend()"
      ],
      "execution_count": null,
      "outputs": [
        {
          "output_type": "execute_result",
          "data": {
            "text/plain": [
              "<seaborn.axisgrid.FacetGrid at 0x7f097259ab50>"
            ]
          },
          "metadata": {
            "tags": []
          },
          "execution_count": 30
        },
        {
          "output_type": "display_data",
          "data": {
            "image/png": "[encoded data removed]",
            "text/plain": [
              "<Figure size 1875.42x360 with 5 Axes>"
            ]
          },
          "metadata": {
            "tags": []
          }
        }
      ]
    },
    {
      "cell_type": "markdown",
      "metadata": {
        "id": "4qiJTevfFLgu"
      },
      "source": [
        "###Commercial Properties \n",
        "\n",
        "Transit orientated development encourages the develop of multi-family housing and commercial buildings near rail transit stops. As such, we will do a deeeper dive to see how residential and commercial property values near rail stops compare to those not near transit hubs. "
      ]
    },
    {
      "cell_type": "code",
      "metadata": {
        "id": "d1SDZPVsFFCc",
        "colab": {
          "base_uri": "https://localhost:8080/",
          "height": 419
        },
        "outputId": "a6e7681f-83fa-45d1-b790-3bc0aa6df465"
      },
      "source": [
        "#creating a subset df w/ commercial properties only \n",
        "commercial= assessor_data[assessor_data[\"general_use\"]==\"Commercial\"]\n",
        "commercial"
      ],
      "execution_count": null,
      "outputs": [
        {
          "output_type": "execute_result",
          "data": {
            "text/html": [
              "<div>\n",
              "<style scoped>\n",
              "    .dataframe tbody tr th:only-of-type {\n",
              "        vertical-align: middle;\n",
              "    }\n",
              "\n",
              "    .dataframe tbody tr th {\n",
              "        vertical-align: top;\n",
              "    }\n",
              "\n",
              "    .dataframe thead th {\n",
              "        text-align: right;\n",
              "    }\n",
              "</style>\n",
              "<table border=\"1\" class=\"dataframe\">\n",
              "  <thead>\n",
              "    <tr style=\"text-align: right;\">\n",
              "      <th></th>\n",
              "      <th>city</th>\n",
              "      <th>year</th>\n",
              "      <th>assessor_id</th>\n",
              "      <th>general_use</th>\n",
              "      <th>specific_use</th>\n",
              "      <th>net_value</th>\n",
              "      <th>zip_code</th>\n",
              "      <th>train_stops</th>\n",
              "      <th>area</th>\n",
              "    </tr>\n",
              "  </thead>\n",
              "  <tbody>\n",
              "    <tr>\n",
              "      <th>0</th>\n",
              "      <td>LOS ANGELES</td>\n",
              "      <td>2010</td>\n",
              "      <td>2368-002-003-2010</td>\n",
              "      <td>Commercial</td>\n",
              "      <td>Commercial</td>\n",
              "      <td>455441</td>\n",
              "      <td>91604</td>\n",
              "      <td>1</td>\n",
              "      <td>Northeast</td>\n",
              "    </tr>\n",
              "    <tr>\n",
              "      <th>1</th>\n",
              "      <td>LOS ANGELES</td>\n",
              "      <td>2010</td>\n",
              "      <td>4305-007-001-2010</td>\n",
              "      <td>Commercial</td>\n",
              "      <td>Store</td>\n",
              "      <td>559830</td>\n",
              "      <td>90035</td>\n",
              "      <td>0</td>\n",
              "      <td>West</td>\n",
              "    </tr>\n",
              "    <tr>\n",
              "      <th>2</th>\n",
              "      <td>LOS ANGELES</td>\n",
              "      <td>2010</td>\n",
              "      <td>2040-032-015-2010</td>\n",
              "      <td>Commercial</td>\n",
              "      <td>Store</td>\n",
              "      <td>800000</td>\n",
              "      <td>91364</td>\n",
              "      <td>0</td>\n",
              "      <td>Northeast</td>\n",
              "    </tr>\n",
              "    <tr>\n",
              "      <th>337</th>\n",
              "      <td>LOS ANGELES</td>\n",
              "      <td>2010</td>\n",
              "      <td>2134-001-015-2010</td>\n",
              "      <td>Commercial</td>\n",
              "      <td>Store</td>\n",
              "      <td>130655</td>\n",
              "      <td>91306</td>\n",
              "      <td>0</td>\n",
              "      <td>Northwest</td>\n",
              "    </tr>\n",
              "    <tr>\n",
              "      <th>359</th>\n",
              "      <td>LOS ANGELES</td>\n",
              "      <td>2010</td>\n",
              "      <td>2134-002-020-2010</td>\n",
              "      <td>Commercial</td>\n",
              "      <td>Auto, Recreation Equipment, Construction Equip...</td>\n",
              "      <td>321916</td>\n",
              "      <td>91306</td>\n",
              "      <td>0</td>\n",
              "      <td>Northwest</td>\n",
              "    </tr>\n",
              "    <tr>\n",
              "      <th>...</th>\n",
              "      <td>...</td>\n",
              "      <td>...</td>\n",
              "      <td>...</td>\n",
              "      <td>...</td>\n",
              "      <td>...</td>\n",
              "      <td>...</td>\n",
              "      <td>...</td>\n",
              "      <td>...</td>\n",
              "      <td>...</td>\n",
              "    </tr>\n",
              "    <tr>\n",
              "      <th>5950084</th>\n",
              "      <td>LOS ANGELES</td>\n",
              "      <td>2020</td>\n",
              "      <td>7562-017-017-2020</td>\n",
              "      <td>Commercial</td>\n",
              "      <td>Shopping Center (Neighborhood, Community)</td>\n",
              "      <td>2695429</td>\n",
              "      <td>90732</td>\n",
              "      <td>0</td>\n",
              "      <td>South</td>\n",
              "    </tr>\n",
              "    <tr>\n",
              "      <th>5950680</th>\n",
              "      <td>LOS ANGELES</td>\n",
              "      <td>2020</td>\n",
              "      <td>7562-005-013-2020</td>\n",
              "      <td>Commercial</td>\n",
              "      <td>Store</td>\n",
              "      <td>499154</td>\n",
              "      <td>90732</td>\n",
              "      <td>0</td>\n",
              "      <td>South</td>\n",
              "    </tr>\n",
              "    <tr>\n",
              "      <th>5951473</th>\n",
              "      <td>LOS ANGELES</td>\n",
              "      <td>2020</td>\n",
              "      <td>7563-016-018-2020</td>\n",
              "      <td>Commercial</td>\n",
              "      <td>Bank, Savings and Loan</td>\n",
              "      <td>4713283</td>\n",
              "      <td>90732</td>\n",
              "      <td>0</td>\n",
              "      <td>South</td>\n",
              "    </tr>\n",
              "    <tr>\n",
              "      <th>5951677</th>\n",
              "      <td>LOS ANGELES</td>\n",
              "      <td>2020</td>\n",
              "      <td>7563-016-016-2020</td>\n",
              "      <td>Commercial</td>\n",
              "      <td>Shopping Center (Neighborhood, Community)</td>\n",
              "      <td>3772820</td>\n",
              "      <td>90732</td>\n",
              "      <td>0</td>\n",
              "      <td>South</td>\n",
              "    </tr>\n",
              "    <tr>\n",
              "      <th>5952322</th>\n",
              "      <td>LOS ANGELES</td>\n",
              "      <td>2020</td>\n",
              "      <td>7562-017-016-2020</td>\n",
              "      <td>Commercial</td>\n",
              "      <td>Auto, Recreation Equipment, Construction Equip...</td>\n",
              "      <td>257299</td>\n",
              "      <td>90732</td>\n",
              "      <td>0</td>\n",
              "      <td>South</td>\n",
              "    </tr>\n",
              "  </tbody>\n",
              "</table>\n",
              "<p>264625 rows × 9 columns</p>\n",
              "</div>"
            ],
            "text/plain": [
              "                city  year        assessor_id  ... zip_code train_stops       area\n",
              "0        LOS ANGELES  2010  2368-002-003-2010  ...    91604           1  Northeast\n",
              "1        LOS ANGELES  2010  4305-007-001-2010  ...    90035           0       West\n",
              "2        LOS ANGELES  2010  2040-032-015-2010  ...    91364           0  Northeast\n",
              "337      LOS ANGELES  2010  2134-001-015-2010  ...    91306           0  Northwest\n",
              "359      LOS ANGELES  2010  2134-002-020-2010  ...    91306           0  Northwest\n",
              "...              ...   ...                ...  ...      ...         ...        ...\n",
              "5950084  LOS ANGELES  2020  7562-017-017-2020  ...    90732           0      South\n",
              "5950680  LOS ANGELES  2020  7562-005-013-2020  ...    90732           0      South\n",
              "5951473  LOS ANGELES  2020  7563-016-018-2020  ...    90732           0      South\n",
              "5951677  LOS ANGELES  2020  7563-016-016-2020  ...    90732           0      South\n",
              "5952322  LOS ANGELES  2020  7562-017-016-2020  ...    90732           0      South\n",
              "\n",
              "[264625 rows x 9 columns]"
            ]
          },
          "metadata": {
            "tags": []
          },
          "execution_count": 90
        }
      ]
    },
    {
      "cell_type": "markdown",
      "metadata": {
        "id": "NK8kwuUUGljV"
      },
      "source": [
        "Cleaning up some features in the data "
      ]
    },
    {
      "cell_type": "code",
      "metadata": {
        "id": "qUS9KzSu2_qs"
      },
      "source": [
        "commercial = commercial.reset_index().drop(columns = [\"index\"])"
      ],
      "execution_count": null,
      "outputs": []
    },
    {
      "cell_type": "code",
      "metadata": {
        "id": "kFpdvE-hQ0pR",
        "colab": {
          "base_uri": "https://localhost:8080/",
          "height": 419
        },
        "outputId": "cf89abfa-d8a0-4f9b-834d-e0e0cf161084"
      },
      "source": [
        "commercial"
      ],
      "execution_count": null,
      "outputs": [
        {
          "output_type": "execute_result",
          "data": {
            "text/html": [
              "<div>\n",
              "<style scoped>\n",
              "    .dataframe tbody tr th:only-of-type {\n",
              "        vertical-align: middle;\n",
              "    }\n",
              "\n",
              "    .dataframe tbody tr th {\n",
              "        vertical-align: top;\n",
              "    }\n",
              "\n",
              "    .dataframe thead th {\n",
              "        text-align: right;\n",
              "    }\n",
              "</style>\n",
              "<table border=\"1\" class=\"dataframe\">\n",
              "  <thead>\n",
              "    <tr style=\"text-align: right;\">\n",
              "      <th></th>\n",
              "      <th>city</th>\n",
              "      <th>year</th>\n",
              "      <th>assessor_id</th>\n",
              "      <th>general_use</th>\n",
              "      <th>specific_use</th>\n",
              "      <th>net_value</th>\n",
              "      <th>zip_code</th>\n",
              "      <th>train_stops</th>\n",
              "      <th>area</th>\n",
              "    </tr>\n",
              "  </thead>\n",
              "  <tbody>\n",
              "    <tr>\n",
              "      <th>0</th>\n",
              "      <td>LOS ANGELES</td>\n",
              "      <td>2010</td>\n",
              "      <td>2368-002-003-2010</td>\n",
              "      <td>Commercial</td>\n",
              "      <td>Commercial</td>\n",
              "      <td>455441</td>\n",
              "      <td>91604</td>\n",
              "      <td>1</td>\n",
              "      <td>Northeast</td>\n",
              "    </tr>\n",
              "    <tr>\n",
              "      <th>1</th>\n",
              "      <td>LOS ANGELES</td>\n",
              "      <td>2010</td>\n",
              "      <td>4305-007-001-2010</td>\n",
              "      <td>Commercial</td>\n",
              "      <td>Store</td>\n",
              "      <td>559830</td>\n",
              "      <td>90035</td>\n",
              "      <td>0</td>\n",
              "      <td>West</td>\n",
              "    </tr>\n",
              "    <tr>\n",
              "      <th>2</th>\n",
              "      <td>LOS ANGELES</td>\n",
              "      <td>2010</td>\n",
              "      <td>2040-032-015-2010</td>\n",
              "      <td>Commercial</td>\n",
              "      <td>Store</td>\n",
              "      <td>800000</td>\n",
              "      <td>91364</td>\n",
              "      <td>0</td>\n",
              "      <td>Northeast</td>\n",
              "    </tr>\n",
              "    <tr>\n",
              "      <th>3</th>\n",
              "      <td>LOS ANGELES</td>\n",
              "      <td>2010</td>\n",
              "      <td>2134-001-015-2010</td>\n",
              "      <td>Commercial</td>\n",
              "      <td>Store</td>\n",
              "      <td>130655</td>\n",
              "      <td>91306</td>\n",
              "      <td>0</td>\n",
              "      <td>Northwest</td>\n",
              "    </tr>\n",
              "    <tr>\n",
              "      <th>4</th>\n",
              "      <td>LOS ANGELES</td>\n",
              "      <td>2010</td>\n",
              "      <td>2134-002-020-2010</td>\n",
              "      <td>Commercial</td>\n",
              "      <td>Auto, Recreation Equipment, Construction Equip...</td>\n",
              "      <td>321916</td>\n",
              "      <td>91306</td>\n",
              "      <td>0</td>\n",
              "      <td>Northwest</td>\n",
              "    </tr>\n",
              "    <tr>\n",
              "      <th>...</th>\n",
              "      <td>...</td>\n",
              "      <td>...</td>\n",
              "      <td>...</td>\n",
              "      <td>...</td>\n",
              "      <td>...</td>\n",
              "      <td>...</td>\n",
              "      <td>...</td>\n",
              "      <td>...</td>\n",
              "      <td>...</td>\n",
              "    </tr>\n",
              "    <tr>\n",
              "      <th>264620</th>\n",
              "      <td>LOS ANGELES</td>\n",
              "      <td>2020</td>\n",
              "      <td>7562-017-017-2020</td>\n",
              "      <td>Commercial</td>\n",
              "      <td>Shopping Center (Neighborhood, Community)</td>\n",
              "      <td>2695429</td>\n",
              "      <td>90732</td>\n",
              "      <td>0</td>\n",
              "      <td>South</td>\n",
              "    </tr>\n",
              "    <tr>\n",
              "      <th>264621</th>\n",
              "      <td>LOS ANGELES</td>\n",
              "      <td>2020</td>\n",
              "      <td>7562-005-013-2020</td>\n",
              "      <td>Commercial</td>\n",
              "      <td>Store</td>\n",
              "      <td>499154</td>\n",
              "      <td>90732</td>\n",
              "      <td>0</td>\n",
              "      <td>South</td>\n",
              "    </tr>\n",
              "    <tr>\n",
              "      <th>264622</th>\n",
              "      <td>LOS ANGELES</td>\n",
              "      <td>2020</td>\n",
              "      <td>7563-016-018-2020</td>\n",
              "      <td>Commercial</td>\n",
              "      <td>Bank, Savings and Loan</td>\n",
              "      <td>4713283</td>\n",
              "      <td>90732</td>\n",
              "      <td>0</td>\n",
              "      <td>South</td>\n",
              "    </tr>\n",
              "    <tr>\n",
              "      <th>264623</th>\n",
              "      <td>LOS ANGELES</td>\n",
              "      <td>2020</td>\n",
              "      <td>7563-016-016-2020</td>\n",
              "      <td>Commercial</td>\n",
              "      <td>Shopping Center (Neighborhood, Community)</td>\n",
              "      <td>3772820</td>\n",
              "      <td>90732</td>\n",
              "      <td>0</td>\n",
              "      <td>South</td>\n",
              "    </tr>\n",
              "    <tr>\n",
              "      <th>264624</th>\n",
              "      <td>LOS ANGELES</td>\n",
              "      <td>2020</td>\n",
              "      <td>7562-017-016-2020</td>\n",
              "      <td>Commercial</td>\n",
              "      <td>Auto, Recreation Equipment, Construction Equip...</td>\n",
              "      <td>257299</td>\n",
              "      <td>90732</td>\n",
              "      <td>0</td>\n",
              "      <td>South</td>\n",
              "    </tr>\n",
              "  </tbody>\n",
              "</table>\n",
              "<p>264625 rows × 9 columns</p>\n",
              "</div>"
            ],
            "text/plain": [
              "               city  year        assessor_id  ... zip_code train_stops       area\n",
              "0       LOS ANGELES  2010  2368-002-003-2010  ...    91604           1  Northeast\n",
              "1       LOS ANGELES  2010  4305-007-001-2010  ...    90035           0       West\n",
              "2       LOS ANGELES  2010  2040-032-015-2010  ...    91364           0  Northeast\n",
              "3       LOS ANGELES  2010  2134-001-015-2010  ...    91306           0  Northwest\n",
              "4       LOS ANGELES  2010  2134-002-020-2010  ...    91306           0  Northwest\n",
              "...             ...   ...                ...  ...      ...         ...        ...\n",
              "264620  LOS ANGELES  2020  7562-017-017-2020  ...    90732           0      South\n",
              "264621  LOS ANGELES  2020  7562-005-013-2020  ...    90732           0      South\n",
              "264622  LOS ANGELES  2020  7563-016-018-2020  ...    90732           0      South\n",
              "264623  LOS ANGELES  2020  7563-016-016-2020  ...    90732           0      South\n",
              "264624  LOS ANGELES  2020  7562-017-016-2020  ...    90732           0      South\n",
              "\n",
              "[264625 rows x 9 columns]"
            ]
          },
          "metadata": {
            "tags": []
          },
          "execution_count": 92
        }
      ]
    },
    {
      "cell_type": "markdown",
      "metadata": {
        "id": "Zr6-RCgCGM2H"
      },
      "source": [
        "I'll start by describing the data - its spread, count, etc. "
      ]
    },
    {
      "cell_type": "code",
      "metadata": {
        "id": "sNEu4WbTF2dB",
        "colab": {
          "base_uri": "https://localhost:8080/",
          "height": 297
        },
        "outputId": "62473261-b595-4101-e5b2-775aa8407673"
      },
      "source": [
        "commercial.describe()"
      ],
      "execution_count": null,
      "outputs": [
        {
          "output_type": "execute_result",
          "data": {
            "text/html": [
              "<div>\n",
              "<style scoped>\n",
              "    .dataframe tbody tr th:only-of-type {\n",
              "        vertical-align: middle;\n",
              "    }\n",
              "\n",
              "    .dataframe tbody tr th {\n",
              "        vertical-align: top;\n",
              "    }\n",
              "\n",
              "    .dataframe thead th {\n",
              "        text-align: right;\n",
              "    }\n",
              "</style>\n",
              "<table border=\"1\" class=\"dataframe\">\n",
              "  <thead>\n",
              "    <tr style=\"text-align: right;\">\n",
              "      <th></th>\n",
              "      <th>net_value</th>\n",
              "    </tr>\n",
              "  </thead>\n",
              "  <tbody>\n",
              "    <tr>\n",
              "      <th>count</th>\n",
              "      <td>2.646250e+05</td>\n",
              "    </tr>\n",
              "    <tr>\n",
              "      <th>mean</th>\n",
              "      <td>2.482359e+06</td>\n",
              "    </tr>\n",
              "    <tr>\n",
              "      <th>std</th>\n",
              "      <td>1.261323e+07</td>\n",
              "    </tr>\n",
              "    <tr>\n",
              "      <th>min</th>\n",
              "      <td>0.000000e+00</td>\n",
              "    </tr>\n",
              "    <tr>\n",
              "      <th>25%</th>\n",
              "      <td>2.450000e+05</td>\n",
              "    </tr>\n",
              "    <tr>\n",
              "      <th>50%</th>\n",
              "      <td>6.118880e+05</td>\n",
              "    </tr>\n",
              "    <tr>\n",
              "      <th>75%</th>\n",
              "      <td>1.513654e+06</td>\n",
              "    </tr>\n",
              "    <tr>\n",
              "      <th>max</th>\n",
              "      <td>7.865220e+08</td>\n",
              "    </tr>\n",
              "  </tbody>\n",
              "</table>\n",
              "</div>"
            ],
            "text/plain": [
              "          net_value\n",
              "count  2.646250e+05\n",
              "mean   2.482359e+06\n",
              "std    1.261323e+07\n",
              "min    0.000000e+00\n",
              "25%    2.450000e+05\n",
              "50%    6.118880e+05\n",
              "75%    1.513654e+06\n",
              "max    7.865220e+08"
            ]
          },
          "metadata": {
            "tags": []
          },
          "execution_count": 93
        }
      ]
    },
    {
      "cell_type": "markdown",
      "metadata": {
        "id": "1bQYnkB1MZI8"
      },
      "source": [
        "**Univariate analysis** - I'll first plot bar plots of the types of commercial properties in LA, then I'll plot boxplots of commercial properties by train stop status. "
      ]
    },
    {
      "cell_type": "code",
      "metadata": {
        "id": "QNEaxB0YSUbw",
        "colab": {
          "base_uri": "https://localhost:8080/",
          "height": 284
        },
        "outputId": "a0bd38d8-df56-46ad-9a76-29a8f77406cb"
      },
      "source": [
        "#Exploring types of commercial properties in Los Angeles \n",
        "counts = commercial[\"specific_use\"].value_counts().to_frame()\n",
        "counts.plot(kind=\"barh\")\n",
        "plt.title(\"Commercial Property Types in Los Angeles\")\n",
        "plt.show()"
      ],
      "execution_count": null,
      "outputs": [
        {
          "output_type": "display_data",
          "data": {
            "image/png": "[encoded data removed]",
            "text/plain": [
              "<Figure size 432x288 with 1 Axes>"
            ]
          },
          "metadata": {
            "tags": []
          }
        }
      ]
    },
    {
      "cell_type": "markdown",
      "metadata": {
        "id": "0hcesky_09pt"
      },
      "source": [
        "Let's first look at the distribution of commercial values (without outliers) grouping by area and train stops. "
      ]
    },
    {
      "cell_type": "code",
      "metadata": {
        "id": "60DFHJ4ee2Kw",
        "colab": {
          "base_uri": "https://localhost:8080/",
          "height": 627
        },
        "outputId": "bda11b34-a8e3-432a-f7bf-179757332ae4"
      },
      "source": [
        "fig_dims = (10, 10)\n",
        "fig, ax = plt.subplots(figsize=fig_dims)\n",
        "sns.boxplot(x=\"area\", y='net_value', hue=\"train_stops\", data=commercial, showfliers=False)\n",
        "plt.title(\"Average Commercial Property Value per Area\");"
      ],
      "execution_count": null,
      "outputs": [
        {
          "output_type": "display_data",
          "data": {
            "image/png": "[encoded data removed]",
            "text/plain": [
              "<Figure size 720x720 with 1 Axes>"
            ]
          },
          "metadata": {
            "tags": []
          }
        }
      ]
    },
    {
      "cell_type": "markdown",
      "metadata": {
        "id": "f1EjmYfKiIFQ"
      },
      "source": [
        "let's look over time "
      ]
    },
    {
      "cell_type": "code",
      "metadata": {
        "id": "E_3qq85UA_zC"
      },
      "source": [
        "line_graph_commercial = commercial.groupby(by=[\"year\",\"area\", \"train_stops\"]).mean().reset_index().dropna()"
      ],
      "execution_count": null,
      "outputs": []
    },
    {
      "cell_type": "code",
      "metadata": {
        "colab": {
          "base_uri": "https://localhost:8080/",
          "height": 268
        },
        "id": "g4qGtrTNOOiW",
        "outputId": "5f76b731-ab04-43cf-ce98-965a3cb2627a"
      },
      "source": [
        "g = sns.FacetGrid(line_graph_commercial, col='area', hue='train_stops', height=5)\n",
        "g.map(sns.lineplot, \"year\",\"net_value\")\n",
        "g.add_legend()"
      ],
      "execution_count": null,
      "outputs": [
        {
          "output_type": "execute_result",
          "data": {
            "text/plain": [
              "<seaborn.axisgrid.FacetGrid at 0x7f0963dfb890>"
            ]
          },
          "metadata": {
            "tags": []
          },
          "execution_count": 101
        },
        {
          "output_type": "display_data",
          "data": {
            "image/png": "[encoded data removed]",
            "text/plain": [
              "<Figure size 1875.42x360 with 5 Axes>"
            ]
          },
          "metadata": {
            "tags": []
          }
        }
      ]
    },
    {
      "cell_type": "markdown",
      "metadata": {
        "id": "fK3YPJjMOmPp"
      },
      "source": [
        "###Residential Properties "
      ]
    },
    {
      "cell_type": "code",
      "metadata": {
        "colab": {
          "base_uri": "https://localhost:8080/",
          "height": 419
        },
        "id": "nADE86h1OV1A",
        "outputId": "ea47c657-9d1a-4804-eec8-795314ecad90"
      },
      "source": [
        "#creating a subset df w/ commercial properties only \n",
        "residential= assessor_data[assessor_data[\"general_use\"]==\"Residential\"].reset_index().drop(columns=['index'])\n",
        "residential"
      ],
      "execution_count": null,
      "outputs": [
        {
          "output_type": "execute_result",
          "data": {
            "text/html": [
              "<div>\n",
              "<style scoped>\n",
              "    .dataframe tbody tr th:only-of-type {\n",
              "        vertical-align: middle;\n",
              "    }\n",
              "\n",
              "    .dataframe tbody tr th {\n",
              "        vertical-align: top;\n",
              "    }\n",
              "\n",
              "    .dataframe thead th {\n",
              "        text-align: right;\n",
              "    }\n",
              "</style>\n",
              "<table border=\"1\" class=\"dataframe\">\n",
              "  <thead>\n",
              "    <tr style=\"text-align: right;\">\n",
              "      <th></th>\n",
              "      <th>city</th>\n",
              "      <th>year</th>\n",
              "      <th>assessor_id</th>\n",
              "      <th>general_use</th>\n",
              "      <th>specific_use</th>\n",
              "      <th>net_value</th>\n",
              "      <th>zip_code</th>\n",
              "      <th>train_stops</th>\n",
              "      <th>area</th>\n",
              "    </tr>\n",
              "  </thead>\n",
              "  <tbody>\n",
              "    <tr>\n",
              "      <th>0</th>\n",
              "      <td>LOS ANGELES</td>\n",
              "      <td>2010</td>\n",
              "      <td>2132-011-025-2010</td>\n",
              "      <td>Residential</td>\n",
              "      <td>Single Family Residence</td>\n",
              "      <td>205877</td>\n",
              "      <td>91335</td>\n",
              "      <td>0</td>\n",
              "      <td>Northwest</td>\n",
              "    </tr>\n",
              "    <tr>\n",
              "      <th>1</th>\n",
              "      <td>LOS ANGELES</td>\n",
              "      <td>2010</td>\n",
              "      <td>2132-013-016-2010</td>\n",
              "      <td>Residential</td>\n",
              "      <td>Single Family Residence</td>\n",
              "      <td>248779</td>\n",
              "      <td>91335</td>\n",
              "      <td>0</td>\n",
              "      <td>Northwest</td>\n",
              "    </tr>\n",
              "    <tr>\n",
              "      <th>2</th>\n",
              "      <td>LOS ANGELES</td>\n",
              "      <td>2010</td>\n",
              "      <td>2132-008-016-2010</td>\n",
              "      <td>Residential</td>\n",
              "      <td>Single Family Residence</td>\n",
              "      <td>193608</td>\n",
              "      <td>91335</td>\n",
              "      <td>0</td>\n",
              "      <td>Northwest</td>\n",
              "    </tr>\n",
              "    <tr>\n",
              "      <th>3</th>\n",
              "      <td>LOS ANGELES</td>\n",
              "      <td>2010</td>\n",
              "      <td>2132-011-022-2010</td>\n",
              "      <td>Residential</td>\n",
              "      <td>Single Family Residence</td>\n",
              "      <td>77288</td>\n",
              "      <td>91335</td>\n",
              "      <td>0</td>\n",
              "      <td>Northwest</td>\n",
              "    </tr>\n",
              "    <tr>\n",
              "      <th>4</th>\n",
              "      <td>LOS ANGELES</td>\n",
              "      <td>2010</td>\n",
              "      <td>2132-009-033-2010</td>\n",
              "      <td>Residential</td>\n",
              "      <td>Single Family Residence</td>\n",
              "      <td>387700</td>\n",
              "      <td>91335</td>\n",
              "      <td>0</td>\n",
              "      <td>Northwest</td>\n",
              "    </tr>\n",
              "    <tr>\n",
              "      <th>...</th>\n",
              "      <td>...</td>\n",
              "      <td>...</td>\n",
              "      <td>...</td>\n",
              "      <td>...</td>\n",
              "      <td>...</td>\n",
              "      <td>...</td>\n",
              "      <td>...</td>\n",
              "      <td>...</td>\n",
              "      <td>...</td>\n",
              "    </tr>\n",
              "    <tr>\n",
              "      <th>5561546</th>\n",
              "      <td>LOS ANGELES</td>\n",
              "      <td>2020</td>\n",
              "      <td>7559-039-161-2020</td>\n",
              "      <td>Residential</td>\n",
              "      <td>Single Family Residence</td>\n",
              "      <td>281430</td>\n",
              "      <td>90732</td>\n",
              "      <td>0</td>\n",
              "      <td>South</td>\n",
              "    </tr>\n",
              "    <tr>\n",
              "      <th>5561547</th>\n",
              "      <td>LOS ANGELES</td>\n",
              "      <td>2020</td>\n",
              "      <td>7562-008-014-2020</td>\n",
              "      <td>Residential</td>\n",
              "      <td>Single Family Residence</td>\n",
              "      <td>106377</td>\n",
              "      <td>90732</td>\n",
              "      <td>0</td>\n",
              "      <td>South</td>\n",
              "    </tr>\n",
              "    <tr>\n",
              "      <th>5561548</th>\n",
              "      <td>LOS ANGELES</td>\n",
              "      <td>2020</td>\n",
              "      <td>7559-014-037-2020</td>\n",
              "      <td>Residential</td>\n",
              "      <td>Single Family Residence</td>\n",
              "      <td>418726</td>\n",
              "      <td>90732</td>\n",
              "      <td>0</td>\n",
              "      <td>South</td>\n",
              "    </tr>\n",
              "    <tr>\n",
              "      <th>5561549</th>\n",
              "      <td>LOS ANGELES</td>\n",
              "      <td>2020</td>\n",
              "      <td>7563-011-011-2020</td>\n",
              "      <td>Residential</td>\n",
              "      <td>Single Family Residence</td>\n",
              "      <td>805073</td>\n",
              "      <td>90732</td>\n",
              "      <td>0</td>\n",
              "      <td>South</td>\n",
              "    </tr>\n",
              "    <tr>\n",
              "      <th>5561550</th>\n",
              "      <td>LOS ANGELES</td>\n",
              "      <td>2020</td>\n",
              "      <td>7559-040-109-2020</td>\n",
              "      <td>Residential</td>\n",
              "      <td>Single Family Residence</td>\n",
              "      <td>189093</td>\n",
              "      <td>90732</td>\n",
              "      <td>0</td>\n",
              "      <td>South</td>\n",
              "    </tr>\n",
              "  </tbody>\n",
              "</table>\n",
              "<p>5561551 rows × 9 columns</p>\n",
              "</div>"
            ],
            "text/plain": [
              "                city  year        assessor_id  ... zip_code train_stops       area\n",
              "0        LOS ANGELES  2010  2132-011-025-2010  ...    91335           0  Northwest\n",
              "1        LOS ANGELES  2010  2132-013-016-2010  ...    91335           0  Northwest\n",
              "2        LOS ANGELES  2010  2132-008-016-2010  ...    91335           0  Northwest\n",
              "3        LOS ANGELES  2010  2132-011-022-2010  ...    91335           0  Northwest\n",
              "4        LOS ANGELES  2010  2132-009-033-2010  ...    91335           0  Northwest\n",
              "...              ...   ...                ...  ...      ...         ...        ...\n",
              "5561546  LOS ANGELES  2020  7559-039-161-2020  ...    90732           0      South\n",
              "5561547  LOS ANGELES  2020  7562-008-014-2020  ...    90732           0      South\n",
              "5561548  LOS ANGELES  2020  7559-014-037-2020  ...    90732           0      South\n",
              "5561549  LOS ANGELES  2020  7563-011-011-2020  ...    90732           0      South\n",
              "5561550  LOS ANGELES  2020  7559-040-109-2020  ...    90732           0      South\n",
              "\n",
              "[5561551 rows x 9 columns]"
            ]
          },
          "metadata": {
            "tags": []
          },
          "execution_count": 106
        }
      ]
    },
    {
      "cell_type": "markdown",
      "metadata": {
        "id": "ZAoR1BqZPzuy"
      },
      "source": [
        ""
      ]
    },
    {
      "cell_type": "code",
      "metadata": {
        "colab": {
          "base_uri": "https://localhost:8080/",
          "height": 297
        },
        "id": "HZgTwzY6O4jT",
        "outputId": "4b9feec9-f60d-4d3b-e6cc-ed3faada6ae3"
      },
      "source": [
        "residential.describe()"
      ],
      "execution_count": null,
      "outputs": [
        {
          "output_type": "execute_result",
          "data": {
            "text/html": [
              "<div>\n",
              "<style scoped>\n",
              "    .dataframe tbody tr th:only-of-type {\n",
              "        vertical-align: middle;\n",
              "    }\n",
              "\n",
              "    .dataframe tbody tr th {\n",
              "        vertical-align: top;\n",
              "    }\n",
              "\n",
              "    .dataframe thead th {\n",
              "        text-align: right;\n",
              "    }\n",
              "</style>\n",
              "<table border=\"1\" class=\"dataframe\">\n",
              "  <thead>\n",
              "    <tr style=\"text-align: right;\">\n",
              "      <th></th>\n",
              "      <th>net_value</th>\n",
              "    </tr>\n",
              "  </thead>\n",
              "  <tbody>\n",
              "    <tr>\n",
              "      <th>count</th>\n",
              "      <td>5.561551e+06</td>\n",
              "    </tr>\n",
              "    <tr>\n",
              "      <th>mean</th>\n",
              "      <td>5.743950e+05</td>\n",
              "    </tr>\n",
              "    <tr>\n",
              "      <th>std</th>\n",
              "      <td>1.808975e+06</td>\n",
              "    </tr>\n",
              "    <tr>\n",
              "      <th>min</th>\n",
              "      <td>0.000000e+00</td>\n",
              "    </tr>\n",
              "    <tr>\n",
              "      <th>25%</th>\n",
              "      <td>1.965220e+05</td>\n",
              "    </tr>\n",
              "    <tr>\n",
              "      <th>50%</th>\n",
              "      <td>3.490540e+05</td>\n",
              "    </tr>\n",
              "    <tr>\n",
              "      <th>75%</th>\n",
              "      <td>6.050000e+05</td>\n",
              "    </tr>\n",
              "    <tr>\n",
              "      <th>max</th>\n",
              "      <td>4.894320e+08</td>\n",
              "    </tr>\n",
              "  </tbody>\n",
              "</table>\n",
              "</div>"
            ],
            "text/plain": [
              "          net_value\n",
              "count  5.561551e+06\n",
              "mean   5.743950e+05\n",
              "std    1.808975e+06\n",
              "min    0.000000e+00\n",
              "25%    1.965220e+05\n",
              "50%    3.490540e+05\n",
              "75%    6.050000e+05\n",
              "max    4.894320e+08"
            ]
          },
          "metadata": {
            "tags": []
          },
          "execution_count": 107
        }
      ]
    },
    {
      "cell_type": "markdown",
      "metadata": {
        "id": "-xzJ2fd-Py95"
      },
      "source": [
        ""
      ]
    },
    {
      "cell_type": "code",
      "metadata": {
        "colab": {
          "base_uri": "https://localhost:8080/",
          "height": 297
        },
        "id": "YNq0G4KkPjSx",
        "outputId": "a1fef8cd-6b72-498d-aa4d-a8a068e3ee49"
      },
      "source": [
        "counts = residential[\"specific_use\"].value_counts().to_frame()\n",
        "counts.plot(kind=\"barh\")\n",
        "plt.title(\"Residential Property Types in Los Angeles\")\n",
        "plt.show()"
      ],
      "execution_count": null,
      "outputs": [
        {
          "output_type": "display_data",
          "data": {
            "image/png": "[encoded data removed]",
            "text/plain": [
              "<Figure size 432x288 with 1 Axes>"
            ]
          },
          "metadata": {
            "tags": []
          }
        }
      ]
    },
    {
      "cell_type": "code",
      "metadata": {
        "colab": {
          "base_uri": "https://localhost:8080/",
          "height": 627
        },
        "id": "TDhjeZiIWt6Y",
        "outputId": "450aad79-8e58-4fd0-8907-6256eed8b431"
      },
      "source": [
        "fig_dims = (10, 10)\n",
        "fig, ax = plt.subplots(figsize=fig_dims)\n",
        "sns.boxplot(x=\"area\", y='net_value', hue=\"train_stops\", data=residential, showfliers=False)\n",
        "plt.title(\"Average Residential Value per Area\");"
      ],
      "execution_count": null,
      "outputs": [
        {
          "output_type": "display_data",
          "data": {
            "image/png": "[encoded data removed]",
            "text/plain": [
              "<Figure size 720x720 with 1 Axes>"
            ]
          },
          "metadata": {
            "tags": []
          }
        }
      ]
    },
    {
      "cell_type": "code",
      "metadata": {
        "id": "eTsr0L_EWy4k"
      },
      "source": [
        "line_graph_residential = residential.groupby(by=[\"year\",\"area\", \"train_stops\"]).mean().reset_index().dropna()\n"
      ],
      "execution_count": null,
      "outputs": []
    },
    {
      "cell_type": "code",
      "metadata": {
        "colab": {
          "base_uri": "https://localhost:8080/",
          "height": 268
        },
        "id": "RPFBNzLMXEpW",
        "outputId": "bffe31ca-3032-4691-eebf-4cb93216ba28"
      },
      "source": [
        "g = sns.FacetGrid(line_graph_residential, col='area', hue='train_stops', height=5)\n",
        "g.map(sns.lineplot, \"year\",\"net_value\")\n",
        "g.add_legend()"
      ],
      "execution_count": null,
      "outputs": [
        {
          "output_type": "execute_result",
          "data": {
            "text/plain": [
              "<seaborn.axisgrid.FacetGrid at 0x7f095fb2d810>"
            ]
          },
          "metadata": {
            "tags": []
          },
          "execution_count": 152
        },
        {
          "output_type": "display_data",
          "data": {
            "image/png": "[encoded data removed]",
            "text/plain": [
              "<Figure size 1875.42x360 with 5 Axes>"
            ]
          },
          "metadata": {
            "tags": []
          }
        }
      ]
    },
    {
      "cell_type": "markdown",
      "metadata": {
        "id": "GzlOslQ2XW8B"
      },
      "source": [
        "### Hypothesis Testing\n",
        "\n"
      ]
    },
    {
      "cell_type": "markdown",
      "metadata": {
        "id": "6PHPPXOjYRsQ"
      },
      "source": [
        "Finally, we'll finish the Assessor data EDA with hypothesis testing. We will perform a t-test on three scenerios: \n",
        "\n",
        "**Test 1**\n",
        "\n",
        "*   Null hypothesis: The mean of properties with 0 train_stops = mean of properties with 1 train stop\n",
        "*   Alt hypothesis: The difference between the means is statistically significant. \n",
        "\n",
        "**Test 2**\n",
        "*   Null hypothesis: The mean of properties with 0 train_stops = mean of properties with 2 train stops\n",
        "*   Alt hypothesis: The difference between the means is statistically significant. \n",
        "\n",
        "**Test 3**\n",
        "*   Null hypothesis: The mean of properties with 1 train_stops = mean of properties with 2 train stops\n",
        "*   Alt hypothesis: The difference between the means is statistically significant.         \n"
      ]
    },
    {
      "cell_type": "code",
      "metadata": {
        "id": "F_-lslxvYRbD"
      },
      "source": [
        "#first scenerio - 0 train stops vs 1+ train stop \n",
        "sub1_no_stops= assessor_data[assessor_data[\"train_stops\"].astype(int)==0]\n",
        "sub2_no_stops= assessor_data[assessor_data[\"train_stops\"].astype(int)>=1]\n",
        "\n"
      ],
      "execution_count": null,
      "outputs": []
    },
    {
      "cell_type": "code",
      "metadata": {
        "colab": {
          "base_uri": "https://localhost:8080/",
          "height": 80
        },
        "id": "a0BEnUGBXL-A",
        "outputId": "909f1e11-7f6d-40ea-b0bb-071b2b11de92"
      },
      "source": [
        "pg.ttest(sub1_no_stops[\"net_value\"], sub2_no_stops[\"net_value\"])"
      ],
      "execution_count": null,
      "outputs": [
        {
          "output_type": "execute_result",
          "data": {
            "text/html": [
              "<div>\n",
              "<style scoped>\n",
              "    .dataframe tbody tr th:only-of-type {\n",
              "        vertical-align: middle;\n",
              "    }\n",
              "\n",
              "    .dataframe tbody tr th {\n",
              "        vertical-align: top;\n",
              "    }\n",
              "\n",
              "    .dataframe thead th {\n",
              "        text-align: right;\n",
              "    }\n",
              "</style>\n",
              "<table border=\"1\" class=\"dataframe\">\n",
              "  <thead>\n",
              "    <tr style=\"text-align: right;\">\n",
              "      <th></th>\n",
              "      <th>T</th>\n",
              "      <th>dof</th>\n",
              "      <th>tail</th>\n",
              "      <th>p-val</th>\n",
              "      <th>CI95%</th>\n",
              "      <th>cohen-d</th>\n",
              "      <th>BF10</th>\n",
              "      <th>power</th>\n",
              "    </tr>\n",
              "  </thead>\n",
              "  <tbody>\n",
              "    <tr>\n",
              "      <th>T-test</th>\n",
              "      <td>-34.174609</td>\n",
              "      <td>1.578147e+06</td>\n",
              "      <td>two-sided</td>\n",
              "      <td>7.156693e-256</td>\n",
              "      <td>[-172630.3, -153903.11]</td>\n",
              "      <td>0.045446</td>\n",
              "      <td>4.23e+250</td>\n",
              "      <td>1.0</td>\n",
              "    </tr>\n",
              "  </tbody>\n",
              "</table>\n",
              "</div>"
            ],
            "text/plain": [
              "                T           dof       tail  ...   cohen-d       BF10  power\n",
              "T-test -34.174609  1.578147e+06  two-sided  ...  0.045446  4.23e+250    1.0\n",
              "\n",
              "[1 rows x 8 columns]"
            ]
          },
          "metadata": {
            "tags": []
          },
          "execution_count": 172
        }
      ]
    },
    {
      "cell_type": "code",
      "metadata": {
        "colab": {
          "base_uri": "https://localhost:8080/",
          "height": 80
        },
        "id": "sc_qjwiQbBmd",
        "outputId": "6f1e6a6c-2823-4848-cda0-93bcfdb43faf"
      },
      "source": [
        "##second scenerio - 0 train stops vs 1 train stop \n",
        "sub3_no_stops= assessor_data[assessor_data[\"train_stops\"].astype(int)==0]\n",
        "sub4_no_stops= assessor_data[assessor_data[\"train_stops\"].astype(int)==1]\n",
        "pg.ttest(sub3_no_stops[\"net_value\"], sub4_no_stops[\"net_value\"])"
      ],
      "execution_count": null,
      "outputs": [
        {
          "output_type": "execute_result",
          "data": {
            "text/html": [
              "<div>\n",
              "<style scoped>\n",
              "    .dataframe tbody tr th:only-of-type {\n",
              "        vertical-align: middle;\n",
              "    }\n",
              "\n",
              "    .dataframe tbody tr th {\n",
              "        vertical-align: top;\n",
              "    }\n",
              "\n",
              "    .dataframe thead th {\n",
              "        text-align: right;\n",
              "    }\n",
              "</style>\n",
              "<table border=\"1\" class=\"dataframe\">\n",
              "  <thead>\n",
              "    <tr style=\"text-align: right;\">\n",
              "      <th></th>\n",
              "      <th>T</th>\n",
              "      <th>dof</th>\n",
              "      <th>tail</th>\n",
              "      <th>p-val</th>\n",
              "      <th>CI95%</th>\n",
              "      <th>cohen-d</th>\n",
              "      <th>BF10</th>\n",
              "      <th>power</th>\n",
              "    </tr>\n",
              "  </thead>\n",
              "  <tbody>\n",
              "    <tr>\n",
              "      <th>T-test</th>\n",
              "      <td>-20.238617</td>\n",
              "      <td>983142.565868</td>\n",
              "      <td>two-sided</td>\n",
              "      <td>4.671554e-91</td>\n",
              "      <td>[-118900.11, -97904.15]</td>\n",
              "      <td>0.032951</td>\n",
              "      <td>1.154e+86</td>\n",
              "      <td>1.0</td>\n",
              "    </tr>\n",
              "  </tbody>\n",
              "</table>\n",
              "</div>"
            ],
            "text/plain": [
              "                T            dof       tail  ...   cohen-d       BF10  power\n",
              "T-test -20.238617  983142.565868  two-sided  ...  0.032951  1.154e+86    1.0\n",
              "\n",
              "[1 rows x 8 columns]"
            ]
          },
          "metadata": {
            "tags": []
          },
          "execution_count": 173
        }
      ]
    },
    {
      "cell_type": "code",
      "metadata": {
        "colab": {
          "base_uri": "https://localhost:8080/",
          "height": 80
        },
        "id": "epkrJsf1c3Ac",
        "outputId": "9acdc19f-8da4-4444-f2ac-e4327c698468"
      },
      "source": [
        "##second scenerio - 0 train stops vs 2 train stop \n",
        "sub5_no_stops= assessor_data[assessor_data[\"train_stops\"].astype(int)==0]\n",
        "sub6_no_stops= assessor_data[assessor_data[\"train_stops\"].astype(int)==1]\n",
        "pg.ttest(sub5_no_stops[\"net_value\"], sub6_no_stops[\"net_value\"])\n"
      ],
      "execution_count": null,
      "outputs": [
        {
          "output_type": "execute_result",
          "data": {
            "text/html": [
              "<div>\n",
              "<style scoped>\n",
              "    .dataframe tbody tr th:only-of-type {\n",
              "        vertical-align: middle;\n",
              "    }\n",
              "\n",
              "    .dataframe tbody tr th {\n",
              "        vertical-align: top;\n",
              "    }\n",
              "\n",
              "    .dataframe thead th {\n",
              "        text-align: right;\n",
              "    }\n",
              "</style>\n",
              "<table border=\"1\" class=\"dataframe\">\n",
              "  <thead>\n",
              "    <tr style=\"text-align: right;\">\n",
              "      <th></th>\n",
              "      <th>T</th>\n",
              "      <th>dof</th>\n",
              "      <th>tail</th>\n",
              "      <th>p-val</th>\n",
              "      <th>CI95%</th>\n",
              "      <th>cohen-d</th>\n",
              "      <th>BF10</th>\n",
              "      <th>power</th>\n",
              "    </tr>\n",
              "  </thead>\n",
              "  <tbody>\n",
              "    <tr>\n",
              "      <th>T-test</th>\n",
              "      <td>-20.238617</td>\n",
              "      <td>983142.565868</td>\n",
              "      <td>two-sided</td>\n",
              "      <td>4.671554e-91</td>\n",
              "      <td>[-118900.11, -97904.15]</td>\n",
              "      <td>0.032951</td>\n",
              "      <td>1.154e+86</td>\n",
              "      <td>1.0</td>\n",
              "    </tr>\n",
              "  </tbody>\n",
              "</table>\n",
              "</div>"
            ],
            "text/plain": [
              "                T            dof       tail  ...   cohen-d       BF10  power\n",
              "T-test -20.238617  983142.565868  two-sided  ...  0.032951  1.154e+86    1.0\n",
              "\n",
              "[1 rows x 8 columns]"
            ]
          },
          "metadata": {
            "tags": []
          },
          "execution_count": 174
        }
      ]
    },
    {
      "cell_type": "code",
      "metadata": {
        "colab": {
          "base_uri": "https://localhost:8080/",
          "height": 80
        },
        "id": "YqB7KVUVdgdZ",
        "outputId": "145548ea-20e2-4c62-b5ed-9f0592120aa1"
      },
      "source": [
        "##third scenerio - 1 train stops vs 2 train stop \n",
        "sub_1_stops= assessor_data[assessor_data[\"train_stops\"].astype(int)==0]\n",
        "sub_2_stops= assessor_data[assessor_data[\"train_stops\"].astype(int)==1]\n",
        "pg.ttest(sub_1_stops[\"net_value\"], sub_2_stops[\"net_value\"])"
      ],
      "execution_count": null,
      "outputs": [
        {
          "output_type": "execute_result",
          "data": {
            "text/html": [
              "<div>\n",
              "<style scoped>\n",
              "    .dataframe tbody tr th:only-of-type {\n",
              "        vertical-align: middle;\n",
              "    }\n",
              "\n",
              "    .dataframe tbody tr th {\n",
              "        vertical-align: top;\n",
              "    }\n",
              "\n",
              "    .dataframe thead th {\n",
              "        text-align: right;\n",
              "    }\n",
              "</style>\n",
              "<table border=\"1\" class=\"dataframe\">\n",
              "  <thead>\n",
              "    <tr style=\"text-align: right;\">\n",
              "      <th></th>\n",
              "      <th>T</th>\n",
              "      <th>dof</th>\n",
              "      <th>tail</th>\n",
              "      <th>p-val</th>\n",
              "      <th>CI95%</th>\n",
              "      <th>cohen-d</th>\n",
              "      <th>BF10</th>\n",
              "      <th>power</th>\n",
              "    </tr>\n",
              "  </thead>\n",
              "  <tbody>\n",
              "    <tr>\n",
              "      <th>T-test</th>\n",
              "      <td>-20.238617</td>\n",
              "      <td>983142.565868</td>\n",
              "      <td>two-sided</td>\n",
              "      <td>4.671554e-91</td>\n",
              "      <td>[-118900.11, -97904.15]</td>\n",
              "      <td>0.032951</td>\n",
              "      <td>1.154e+86</td>\n",
              "      <td>1.0</td>\n",
              "    </tr>\n",
              "  </tbody>\n",
              "</table>\n",
              "</div>"
            ],
            "text/plain": [
              "                T            dof       tail  ...   cohen-d       BF10  power\n",
              "T-test -20.238617  983142.565868  two-sided  ...  0.032951  1.154e+86    1.0\n",
              "\n",
              "[1 rows x 8 columns]"
            ]
          },
          "metadata": {
            "tags": []
          },
          "execution_count": 175
        }
      ]
    },
    {
      "cell_type": "markdown",
      "metadata": {
        "id": "cLRNP1aEc_Vl"
      },
      "source": [
        "With a significant level of .05, we reject the null in all three scenerios. The mean property values are statistically signficant. "
      ]
    }
  ]
}